{
 "cells": [
  {
   "cell_type": "code",
   "execution_count": 22,
   "metadata": {},
   "outputs": [],
   "source": [
    "import sys\n",
    "\n",
    "class Node(object):\n",
    "    \n",
    "    def __init__(self, name):\n",
    "        self.name = name\n",
    "        self.predecessor = None\n",
    "        self.adjacencyList = []\n",
    "        self.visited = False\n",
    "        self.minDistance = sys.maxsize\n",
    "        \n",
    "class Edge(object):\n",
    "    \n",
    "    def __init__(self, weight, startingVertex, targetVertex):\n",
    "        self.weight = weight\n",
    "        self.startingVertex = startingVertex\n",
    "        self.targetVertex = targetVertex\n",
    "        \n",
    "class BellmanFord(object):\n",
    "    \n",
    "    HAS_CYCLE = False\n",
    "    \n",
    "    def calculateShortestPath(self, source, edgeList, vertexList):\n",
    "        \n",
    "        source.minDistance = 0\n",
    "        \n",
    "        for i in range(len(vertexList) - 1):\n",
    "            for edge in edgeList:\n",
    "                \n",
    "                u = edge.startingVertex\n",
    "                v = edge.targetVertex\n",
    "                newDistance = u.minDistance + edge.weight\n",
    "                \n",
    "                if newDistance < v.minDistance:\n",
    "                    v.minDistance = newDistance\n",
    "                    v.predecessor = u\n",
    "                    \n",
    "        for edge in edgeList:\n",
    "            if self.hasCycle(edge):\n",
    "                BellmanFord.HAS_CYCLE = True\n",
    "                return\n",
    "            \n",
    "            \n",
    "    def hasCycle(self, edge):\n",
    "        if edge.startingVertex.minDistance + edge.weight < edge.targetVertex.minDistance:\n",
    "            return True\n",
    "        else:\n",
    "            return False\n",
    "        \n",
    "    def getShortestPathTo(self, targetVertex):\n",
    "            \n",
    "        if not BellmanFord.HAS_CYCLE:\n",
    "            \n",
    "            print(\"Shortest path exists with value: \", targetVertex.minDistance)\n",
    "            node = targetVertex\n",
    "        \n",
    "            while node is not None:\n",
    "                print(\"%s \" % node.name)\n",
    "                node = node.predecessor\n",
    "        else:\n",
    "            print(\"Negative cycle detected...\")"
   ]
  },
  {
   "cell_type": "code",
   "execution_count": 23,
   "metadata": {},
   "outputs": [
    {
     "name": "stdout",
     "output_type": "stream",
     "text": [
      "Shortest path exists with value:  25\n",
      "G \n",
      "C \n",
      "F \n",
      "E \n",
      "A \n"
     ]
    }
   ],
   "source": [
    "node1 = Node(\"A\")\n",
    "node2 = Node(\"B\")\n",
    "node3 = Node(\"C\")\n",
    "node4 = Node(\"D\")\n",
    "node5 = Node(\"E\")\n",
    "node6 = Node(\"F\")\n",
    "node7 = Node(\"G\")\n",
    "node8 = Node(\"H\")\n",
    "\n",
    "edge1 = Edge(5,node1,node2)\n",
    "edge2 = Edge(8,node1,node8)\n",
    "edge3 = Edge(9,node1,node5)\n",
    "edge4 = Edge(15,node2,node4)\n",
    "edge5 = Edge(12,node2,node3)\n",
    "edge6 = Edge(4,node2,node8)\n",
    "edge7 = Edge(7,node8,node3)\n",
    "edge8 = Edge(6,node8,node6)\n",
    "edge9 = Edge(5,node5,node8)\n",
    "edge10 = Edge(4,node5,node6)\n",
    "edge11 = Edge(20,node5,node7)\n",
    "edge12 = Edge(1,node6,node3)\n",
    "edge13 = Edge(13,node6,node7)\n",
    "edge14 = Edge(3,node3,node4)\n",
    "edge15 = Edge(11,node3,node7)\n",
    "edge16 = Edge(9,node4,node7)\n",
    "edge17 = Edge(1,node1,node2)\n",
    "edge18 = Edge(1,node2,node3)\n",
    "edge19 = Edge(-3,node3,node1)\n",
    "\n",
    "node1.adjacencyList.append(edge1)\n",
    "node1.adjacencyList.append(edge2)\n",
    "node1.adjacencyList.append(edge3)\n",
    "node2.adjacencyList.append(edge4)\n",
    "node2.adjacencyList.append(edge5)\n",
    "node2.adjacencyList.append(edge6)\n",
    "node8.adjacencyList.append(edge7)\n",
    "node8.adjacencyList.append(edge8)\n",
    "node5.adjacencyList.append(edge9)\n",
    "node5.adjacencyList.append(edge10)\n",
    "node5.adjacencyList.append(edge11)\n",
    "node6.adjacencyList.append(edge12)\n",
    "node6.adjacencyList.append(edge13)\n",
    "node3.adjacencyList.append(edge14)\n",
    "node3.adjacencyList.append(edge15)\n",
    "node4.adjacencyList.append(edge16)\n",
    "\n",
    "vertexList = (node1,node2,node3, node4, node5, node6, node7, node8);\n",
    "edgeList = (edge1,edge2,edge3,edge4,edge5,edge6,edge7,edge8,edge9,edge10,edge11,edge12,edge13,edge14,edge15,edge16)\n",
    "\n",
    "bellmanford = BellmanFord()\n",
    "bellmanford.calculateShortestPath(node1, edgeList, vertexList)\n",
    "bellmanford.getShortestPathTo(node7)"
   ]
  },
  {
   "cell_type": "code",
   "execution_count": 25,
   "metadata": {},
   "outputs": [
    {
     "name": "stdout",
     "output_type": "stream",
     "text": [
      "Negative cycle detected...\n"
     ]
    }
   ],
   "source": [
    "edgeList = (edge17, edge18, edge19)\n",
    "bellmanford = BellmanFord()\n",
    "bellmanford.calculateShortestPath(node1, edgeList, vertexList)\n",
    "bellmanford.getShortestPathTo(node7)"
   ]
  }
 ],
 "metadata": {
  "kernelspec": {
   "display_name": "Python 3",
   "language": "python",
   "name": "python3"
  },
  "language_info": {
   "codemirror_mode": {
    "name": "ipython",
    "version": 3
   },
   "file_extension": ".py",
   "mimetype": "text/x-python",
   "name": "python",
   "nbconvert_exporter": "python",
   "pygments_lexer": "ipython3",
   "version": "3.7.7"
  }
 },
 "nbformat": 4,
 "nbformat_minor": 4
}
