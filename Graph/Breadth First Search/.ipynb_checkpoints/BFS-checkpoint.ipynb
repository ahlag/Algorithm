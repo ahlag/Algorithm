{
 "cells": [
  {
   "cell_type": "code",
   "execution_count": 10,
   "metadata": {},
   "outputs": [],
   "source": [
    "class Node(object):\n",
    "    \n",
    "    def __init__(self,val):\n",
    "        self.val = val\n",
    "        self.adjacencyList = []\n",
    "        self.visited = False\n",
    "        self.predecessor = None\n",
    "        \n",
    "class BreadthFirstSearch(object):\n",
    "    \n",
    "    def bfs(self,startingNode):\n",
    "        \n",
    "        queue = []\n",
    "        queue.append(startingNode)\n",
    "        \n",
    "        \n",
    "        while queue:\n",
    "            \n",
    "            currentNode = queue.pop(0)\n",
    "            print('{} visited!'.format(currentNode.val))\n",
    "            currentNode.visited = True\n",
    "            \n",
    "            for neighbor in currentNode.adjacencyList:\n",
    "                if not neighbor.visited:\n",
    "                    neighbor.visited = True\n",
    "                    queue.append(neighbor)    "
   ]
  },
  {
   "cell_type": "code",
   "execution_count": 11,
   "metadata": {},
   "outputs": [
    {
     "name": "stdout",
     "output_type": "stream",
     "text": [
      "A visited!\n",
      "B visited!\n",
      "C visited!\n",
      "D visited!\n",
      "E visited!\n"
     ]
    }
   ],
   "source": [
    "node1 = Node(\"A\")\n",
    "node2 = Node(\"B\")\n",
    "node3 = Node(\"C\")\n",
    "node4 = Node(\"D\")\n",
    "node5 = Node(\"E\")\n",
    "\n",
    "node1.adjacencyList.append(node2)\n",
    "node1.adjacencyList.append(node3)\n",
    "node2.adjacencyList.append(node4)\n",
    "node4.adjacencyList.append(node5)\n",
    "\n",
    "bfs = BreadthFirstSearch()\n",
    "bfs.bfs(node1)"
   ]
  },
  {
   "cell_type": "code",
   "execution_count": null,
   "metadata": {},
   "outputs": [],
   "source": []
  }
 ],
 "metadata": {
  "kernelspec": {
   "display_name": "Python 3",
   "language": "python",
   "name": "python3"
  },
  "language_info": {
   "codemirror_mode": {
    "name": "ipython",
    "version": 3
   },
   "file_extension": ".py",
   "mimetype": "text/x-python",
   "name": "python",
   "nbconvert_exporter": "python",
   "pygments_lexer": "ipython3",
   "version": "3.7.7"
  }
 },
 "nbformat": 4,
 "nbformat_minor": 4
}
