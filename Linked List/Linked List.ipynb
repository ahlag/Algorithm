{
 "cells": [
  {
   "cell_type": "code",
   "execution_count": 13,
   "metadata": {},
   "outputs": [
    {
     "name": "stdout",
     "output_type": "stream",
     "text": [
      "data : 1\n",
      "data : 2\n",
      "data : 3\n"
     ]
    }
   ],
   "source": [
    "class Node:\n",
    "    \n",
    "    def __init__(self,data):\n",
    "        self.data = data\n",
    "        self.next = None\n",
    "        print(\"data : \" + str(self.data))\n",
    "        \n",
    "class LinkedList:\n",
    "    \n",
    "    def __init__(self):\n",
    "        self.head = None\n",
    "        \n",
    "    def printSelf(self):\n",
    "        temp = self.head\n",
    "        while temp is not None:\n",
    "            print(\"Data: \" + str(temp.data))\n",
    "            temp = temp.next\n",
    "            \n",
    "    def insertAtTheBeginning(self,data):\n",
    "        newNode = Node(data)\n",
    "        \n",
    "        newNode.next = self.head\n",
    "        self.head = newNode\n",
    "            \n",
    "    def insertNode(self,data):\n",
    "        newNode = Node(data)\n",
    "        \n",
    "        if self.head is None:\n",
    "            self.head = newNode\n",
    "        \n",
    "        last = self.head\n",
    "        while last is not None:\n",
    "            last = last.next\n",
    "\n",
    "        last.next = newNode\n",
    "        \n",
    "    def insertAfter(self,prev_node,data):\n",
    "        \n",
    "        if self.head is None:\n",
    "            self.insertNode(data)\n",
    "            return\n",
    "        \n",
    "        newNode = Node(data)\n",
    "        \n",
    "        newNode.next = prev_node.next\n",
    "        prev_node.next = newNode\n",
    "        \n",
    "    def deleteNode(self,key):\n",
    "        \n",
    "        temp = self.head\n",
    "        \n",
    "        if temp is not None:\n",
    "            if temp.data == key:\n",
    "                self.head = temp.next\n",
    "                temp = None\n",
    "                return\n",
    "        \n",
    "        while(temp):\n",
    "            if temp.data == key:\n",
    "                prevNode.next = temp.next\n",
    "                temp = None\n",
    "                return\n",
    "            prevNode = temp\n",
    "            temp = temp.next\n",
    "            \n",
    "        if temp == None:\n",
    "            print(\"Couldn't find key\")\n",
    "            return\n",
    "        \n",
    "\n",
    "            \n",
    "    def append(self, new_data): \n",
    "  \n",
    "        # 1. Create a new node \n",
    "        # 2. Put in the data \n",
    "        # 3. Set next as None \n",
    "        new_node = Node(new_data) \n",
    "  \n",
    "        # 4. If the Linked List is empty, then make the \n",
    "        #    new node as head \n",
    "        if self.head is None: \n",
    "            self.head = new_node \n",
    "            return\n",
    "  \n",
    "        # 5. Else traverse till the last node \n",
    "        last = self.head \n",
    "        while (last.next): \n",
    "            last = last.next\n",
    "  \n",
    "        # 6. Change the next of last node \n",
    "        last.next =  new_node \n",
    "        \n",
    "if __name__=='__main__': \n",
    "    \n",
    "    llist = LinkedList()\n",
    "    llist.head = Node(1)\n",
    "    second = Node(2)\n",
    "    third = Node(3)\n",
    "    "
   ]
  },
  {
   "cell_type": "code",
   "execution_count": 27,
   "metadata": {
    "scrolled": true
   },
   "outputs": [
    {
     "name": "stdout",
     "output_type": "stream",
     "text": [
      "Node created with data : 1\n",
      "Node created with data : 2\n",
      "Node created with data : 3\n",
      "Data : 1\n",
      "Data : 2\n",
      "Data : 3\n",
      "Node created with data : 90\n",
      "Data : 90\n",
      "Data : 1\n",
      "Data : 2\n",
      "Data : 3\n",
      "Node created with data : 1000\n",
      "Data : 1000\n",
      "Data : 90\n",
      "Data : 1\n",
      "Data : 2\n",
      "Data : 3\n",
      "Node created with data : 23\n",
      "Data : 1000\n",
      "Data : 90\n",
      "Data : 1\n",
      "Data : 2\n",
      "Data : 3\n",
      "Data : 23\n",
      "Node created with data : 44\n",
      "Data : 1000\n",
      "Data : 90\n",
      "Data : 1\n",
      "Data : 2\n",
      "Data : 3\n",
      "Data : 44\n",
      "Data : 23\n",
      "Deleting Node\n",
      "Data : 1000\n",
      "Data : 90\n",
      "Data : 2\n",
      "Data : 3\n",
      "Data : 44\n",
      "Data : 23\n",
      "Deleting Node\n",
      "Data : 90\n",
      "Data : 2\n",
      "Data : 3\n",
      "Data : 44\n",
      "Data : 23\n"
     ]
    }
   ],
   "source": [
    "class Node:\n",
    "    \n",
    "    def __init__(self,data):\n",
    "        self.data = data\n",
    "        self.next = None\n",
    "        print(\"Node created with data : \" + str(self.data))\n",
    "        \n",
    "class LinkedList:\n",
    "    \n",
    "    def __init__(self):\n",
    "        self.head = None\n",
    "        \n",
    "    def insert_at_the_beginning(self, data):\n",
    "        \n",
    "        newNode = Node(data)\n",
    "        \n",
    "        if self.head is None:\n",
    "            self.head = newNode\n",
    "            return\n",
    "        else:\n",
    "            newNode.next = self.head\n",
    "            self.head = newNode\n",
    "            return\n",
    "        \n",
    "    def insert_at(self,prev_node,data):\n",
    "        \n",
    "        newNode = Node(data)\n",
    "        \n",
    "        temp = self.head\n",
    "        if temp is None:\n",
    "            newNode = temp\n",
    "            return\n",
    "            \n",
    "        while temp.next is not None:\n",
    "            if temp.data == prev_node.data:\n",
    "                newNode.next = prev_node.next\n",
    "                prev_node.next = newNode\n",
    "            temp = temp.next\n",
    "            \n",
    "        \n",
    "    def append(self,data):\n",
    "        \n",
    "        newNode = Node(data)\n",
    "        \n",
    "        last = self.head\n",
    "        while last.next is not None:\n",
    "            last = last.next\n",
    "            \n",
    "        last.next = newNode\n",
    "        \n",
    "    def delete_node(self,key):\n",
    "        \n",
    "        if self.head is None:\n",
    "            print(\"Cannot delete empty list\")\n",
    "            return\n",
    "        \n",
    "        temp = self.head\n",
    "        \n",
    "        if temp.data == key:\n",
    "            self.head = temp.next\n",
    "            temp = None\n",
    "            return\n",
    "        \n",
    "        while temp.next is not None:\n",
    "            if temp.data == key:\n",
    "                prev_node.next = temp.next\n",
    "                temp = None\n",
    "                return\n",
    "            prev_node = temp\n",
    "            temp = temp.next\n",
    "        \n",
    "    def print_list(self):\n",
    "        \n",
    "        temp = self.head\n",
    "        while temp is not None:\n",
    "            print(\"Data : \" + str(temp.data))\n",
    "            temp = temp.next\n",
    "        \n",
    "        \n",
    "if __name__=='__main__':\n",
    "    \n",
    "    llist = LinkedList()\n",
    "    llist.head = Node(1)\n",
    "    second = Node(2)\n",
    "    third = Node(3)\n",
    "    \n",
    "    llist.head.next = second\n",
    "    second.next = third\n",
    "    \n",
    "    llist.print_list()\n",
    "    \n",
    "    llist.insert_at_the_beginning(90)\n",
    "    \n",
    "    llist.print_list()\n",
    "    \n",
    "    llist.insert_at_the_beginning(1000)\n",
    "    \n",
    "    llist.print_list()\n",
    "    \n",
    "    llist.append(23)\n",
    "    \n",
    "    llist.print_list()\n",
    "    \n",
    "    llist.insert_at(third, 44)\n",
    "    \n",
    "    llist.print_list()\n",
    "    \n",
    "    print(\"Deleting Node\")\n",
    "    llist.delete_node(1)\n",
    "    \n",
    "    llist.print_list()\n",
    "    \n",
    "    print(\"Deleting Node\")\n",
    "    llist.delete_node(1000)\n",
    "    \n",
    "    llist.print_list()"
   ]
  },
  {
   "cell_type": "code",
   "execution_count": 14,
   "metadata": {},
   "outputs": [],
   "source": [
    "llist.head.next = second\n",
    "second.next = third"
   ]
  },
  {
   "cell_type": "code",
   "execution_count": 15,
   "metadata": {},
   "outputs": [
    {
     "name": "stdout",
     "output_type": "stream",
     "text": [
      "Data: 1\n",
      "Data: 2\n",
      "Data: 3\n"
     ]
    }
   ],
   "source": [
    "llist.printSelf()"
   ]
  },
  {
   "cell_type": "code",
   "execution_count": 16,
   "metadata": {
    "scrolled": false
   },
   "outputs": [
    {
     "name": "stdout",
     "output_type": "stream",
     "text": [
      "data : 4\n"
     ]
    }
   ],
   "source": [
    "llist.append(4)"
   ]
  },
  {
   "cell_type": "code",
   "execution_count": 17,
   "metadata": {},
   "outputs": [
    {
     "name": "stdout",
     "output_type": "stream",
     "text": [
      "data : 99\n"
     ]
    }
   ],
   "source": [
    "llist.insertAtTheBeginning(99)"
   ]
  },
  {
   "cell_type": "code",
   "execution_count": 18,
   "metadata": {},
   "outputs": [
    {
     "name": "stdout",
     "output_type": "stream",
     "text": [
      "Data: 99\n",
      "Data: 1\n",
      "Data: 2\n",
      "Data: 3\n",
      "Data: 4\n"
     ]
    }
   ],
   "source": [
    "llist.printSelf()"
   ]
  },
  {
   "cell_type": "code",
   "execution_count": 19,
   "metadata": {},
   "outputs": [
    {
     "name": "stdout",
     "output_type": "stream",
     "text": [
      "data : 90\n"
     ]
    }
   ],
   "source": [
    "llist.insertAfter(second,90)"
   ]
  },
  {
   "cell_type": "code",
   "execution_count": 20,
   "metadata": {},
   "outputs": [
    {
     "name": "stdout",
     "output_type": "stream",
     "text": [
      "Data: 99\n",
      "Data: 1\n",
      "Data: 2\n",
      "Data: 90\n",
      "Data: 3\n",
      "Data: 4\n"
     ]
    }
   ],
   "source": [
    "llist.printSelf()"
   ]
  },
  {
   "cell_type": "code",
   "execution_count": 21,
   "metadata": {},
   "outputs": [],
   "source": [
    "llist.deleteNode(2)"
   ]
  },
  {
   "cell_type": "code",
   "execution_count": 22,
   "metadata": {},
   "outputs": [
    {
     "name": "stdout",
     "output_type": "stream",
     "text": [
      "Data: 99\n",
      "Data: 1\n",
      "Data: 90\n",
      "Data: 3\n",
      "Data: 4\n"
     ]
    }
   ],
   "source": [
    "llist.printSelf()"
   ]
  },
  {
   "cell_type": "code",
   "execution_count": 23,
   "metadata": {},
   "outputs": [],
   "source": [
    "llist.deleteNode(99)"
   ]
  },
  {
   "cell_type": "code",
   "execution_count": 24,
   "metadata": {},
   "outputs": [
    {
     "name": "stdout",
     "output_type": "stream",
     "text": [
      "Data: 1\n",
      "Data: 90\n",
      "Data: 3\n",
      "Data: 4\n"
     ]
    }
   ],
   "source": [
    "llist.printSelf()"
   ]
  },
  {
   "cell_type": "code",
   "execution_count": null,
   "metadata": {},
   "outputs": [],
   "source": []
  }
 ],
 "metadata": {
  "kernelspec": {
   "display_name": "Python 3",
   "language": "python",
   "name": "python3"
  },
  "language_info": {
   "codemirror_mode": {
    "name": "ipython",
    "version": 3
   },
   "file_extension": ".py",
   "mimetype": "text/x-python",
   "name": "python",
   "nbconvert_exporter": "python",
   "pygments_lexer": "ipython3",
   "version": "3.7.4"
  }
 },
 "nbformat": 4,
 "nbformat_minor": 2
}
