{
 "cells": [
  {
   "cell_type": "code",
   "execution_count": null,
   "metadata": {},
   "outputs": [],
   "source": [
    "3 8\n",
    "3 30\n",
    "4 50\n",
    "5 60"
   ]
  },
  {
   "cell_type": "code",
   "execution_count": null,
   "metadata": {},
   "outputs": [],
   "source": [
    "ii = lambda : int(input())\n",
    "mi = lambda : map(int,input().split())\n",
    "li = lambda : list(map(int,input().split()))\n",
    "import numpy as np\n",
    "n,W = mi()\n",
    "a = [tuple(int(i) for i in input().split()) for _ in range(n)]\n",
    "dp = np.array([0]*(W+1))\n",
    "for w,v in a:\n",
    "    ed = W+1-w\n",
    "    dp[w:W+1] = np.maximum(dp[w:W+1], dp[0:W+1-w] + v)\n",
    "print(dp[W])\n"
   ]
  },
  {
   "cell_type": "code",
   "execution_count": 49,
   "metadata": {},
   "outputs": [
    {
     "name": "stdout",
     "output_type": "stream",
     "text": [
      "3 8\n",
      "3 30\n",
      "4 50\n",
      "5 60\n"
     ]
    }
   ],
   "source": [
    "n,C = map(int,input().split())\n",
    "\n",
    "wt = [0] * (n+1)\n",
    "v  = [0] * (n+1)\n",
    "\n",
    "for i in range(1,n+1):\n",
    "    wt[i], v[i] = list(map(int,input().split()))\n",
    "    "
   ]
  },
  {
   "cell_type": "code",
   "execution_count": 50,
   "metadata": {},
   "outputs": [
    {
     "data": {
      "text/plain": [
       "[0, 3, 4, 5]"
      ]
     },
     "execution_count": 50,
     "metadata": {},
     "output_type": "execute_result"
    }
   ],
   "source": [
    "wt"
   ]
  },
  {
   "cell_type": "code",
   "execution_count": 51,
   "metadata": {
    "scrolled": true
   },
   "outputs": [
    {
     "data": {
      "text/plain": [
       "[0, 30, 50, 60]"
      ]
     },
     "execution_count": 51,
     "metadata": {},
     "output_type": "execute_result"
    }
   ],
   "source": [
    "v"
   ]
  },
  {
   "cell_type": "code",
   "execution_count": 68,
   "metadata": {},
   "outputs": [],
   "source": [
    "import numpy as np\n",
    "g = np.array([1,2,3,4,5,6])"
   ]
  },
  {
   "cell_type": "code",
   "execution_count": 69,
   "metadata": {},
   "outputs": [
    {
     "data": {
      "text/plain": [
       "array([3, 4, 5, 6])"
      ]
     },
     "execution_count": 69,
     "metadata": {},
     "output_type": "execute_result"
    }
   ],
   "source": [
    "g[2:]"
   ]
  },
  {
   "cell_type": "code",
   "execution_count": 72,
   "metadata": {},
   "outputs": [
    {
     "data": {
      "text/plain": [
       "array([1, 2, 3, 4])"
      ]
     },
     "execution_count": 72,
     "metadata": {},
     "output_type": "execute_result"
    }
   ],
   "source": [
    "g[:-2]"
   ]
  },
  {
   "cell_type": "code",
   "execution_count": 73,
   "metadata": {},
   "outputs": [
    {
     "name": "stdout",
     "output_type": "stream",
     "text": [
      "3 8\n",
      "3 30\n",
      "4 50\n",
      "5 60\n",
      "140\n"
     ]
    }
   ],
   "source": [
    "n,W = map(int,input().split())\n",
    "\n",
    "wt = [0] * (n+1)\n",
    "v  = [0] * (n+1)\n",
    "\n",
    "for i in range(1,n+1):\n",
    "    wt[i], v[i] = list(map(int,input().split()))\n",
    "\n",
    "def knapSack(W, wt, val, n): \n",
    "    K = [[0 for x in range(W+1)] for x in range(n+1)] \n",
    "  \n",
    "    # Build table K[][] in bottom up manner \n",
    "    for i in range(n+1): \n",
    "        for w in range(W+1): \n",
    "            if i==0 or w==0: \n",
    "                K[i][w] = 0\n",
    "            elif wt[i-1] <= w: \n",
    "                K[i][w] = max(val[i-1] + K[i-1][w-wt[i-1]],  K[i-1][w]) \n",
    "            else: \n",
    "                K[i][w] = K[i-1][w] \n",
    "  \n",
    "    return K[n][W] \n",
    "  \n",
    "# Driver program to test above function \n",
    "# val = [30, 50, 60]\n",
    "# wt = [3, 4, 5]\n",
    "# C = 8\n",
    "print(knapSack(W, wt, val, n)) "
   ]
  },
  {
   "cell_type": "code",
   "execution_count": 76,
   "metadata": {
    "scrolled": true
   },
   "outputs": [
    {
     "name": "stdout",
     "output_type": "stream",
     "text": [
      "3 8\n",
      "3 30\n",
      "4 50\n",
      "5 60\n",
      "80\n"
     ]
    }
   ],
   "source": [
    "n, W = map(int,input().split())\n",
    "\n",
    "# wt  = [0] * (n+1)\n",
    "# val = [0] * (n+1)\n",
    "\n",
    "for i in range(1,n+1):\n",
    "    wt[i], val[i] = list(map(int,input().split()))\n",
    "\n",
    "# A Dynamic Programming based Python Program for 0-1 Knapsack problem \n",
    "# Returns the maximum value that can be put in a knapsack of capacity W \n",
    "def knapSack(W, wt, val, n): \n",
    "    K = [[0 for x in range(W+1)] for x in range(n+1)] \n",
    "  \n",
    "    # Build table K[][] in bottom up manner \n",
    "    for i in range(n+1): \n",
    "        for w in range(W+1): \n",
    "            if i==0 or w==0: \n",
    "                K[i][w] = 0\n",
    "            elif wt[i-1] <= w: \n",
    "                K[i][w] = max(val[i-1] + K[i-1][w-wt[i-1]],  K[i-1][w]) \n",
    "            else: \n",
    "                K[i][w] = K[i-1][w] \n",
    "  \n",
    "    return K[n][W] \n",
    "  \n",
    "# Driver program to test above function \n",
    "print(knapSack(W, wt, val, n)) "
   ]
  },
  {
   "cell_type": "code",
   "execution_count": 78,
   "metadata": {},
   "outputs": [
    {
     "name": "stdout",
     "output_type": "stream",
     "text": [
      "90\n"
     ]
    }
   ],
   "source": [
    "n, W = map(int,input().split())\n",
    "\n",
    "def knapSack(C, wt, val, n): \n",
    "    K = [[0 for x in range(W+1)] for x in range(n+1)] \n",
    "  \n",
    "    # Build table K[][] in bottom up manner \n",
    "    for i in range(n+1): \n",
    "        for w in range(C+1): \n",
    "            if i==0 or w==0: \n",
    "                K[i][w] = 0\n",
    "            elif wt[i-1] <= w: \n",
    "                K[i][w] = max(val[i-1] + K[i-1][w-wt[i-1]],  K[i-1][w]) \n",
    "            else: \n",
    "                K[i][w] = K[i-1][w] \n",
    "  \n",
    "    return K[n][W] \n",
    "  \n",
    "# Driver program to test above function \n",
    "val = [30, 50, 60]\n",
    "wt = [3, 4, 5]\n",
    "C = 8\n",
    "n = len(val) \n",
    "print(knapSack(W, wt, val, n)) "
   ]
  },
  {
   "cell_type": "code",
   "execution_count": 81,
   "metadata": {},
   "outputs": [
    {
     "name": "stdout",
     "output_type": "stream",
     "text": [
      "90\n"
     ]
    }
   ],
   "source": [
    "def knapSack(W, wt, val, n): \n",
    "    K = [[0 for x in range(W+1)] for x in range(n+1)] \n",
    "  \n",
    "    # Build table K[][] in bottom up manner \n",
    "    for i in range(n+1): \n",
    "        for w in range(W+1): \n",
    "            if i==0 or w==0: \n",
    "                K[i][w] = 0\n",
    "            elif wt[i-1] <= w: \n",
    "                K[i][w] = max(val[i-1] + K[i-1][w-wt[i-1]],  K[i-1][w]) \n",
    "            else: \n",
    "                K[i][w] = K[i-1][w] \n",
    "  \n",
    "    return K[n][W] \n",
    "  \n",
    "# Driver program to test above function \n",
    "val = [30, 50, 60] \n",
    "wt = [3, 4, 5]\n",
    "W = 8\n",
    "n = len(val) \n",
    "print(knapSack(W, wt, val, n))"
   ]
  },
  {
   "cell_type": "code",
   "execution_count": 86,
   "metadata": {},
   "outputs": [
    {
     "name": "stdout",
     "output_type": "stream",
     "text": [
      "3 8\n",
      "3 30\n",
      "4 50\n",
      "5 60\n",
      "90\n"
     ]
    }
   ],
   "source": [
    "n, W = map(int,input().split())\n",
    "\n",
    "wt  = [0] * (n+1)\n",
    "val = [0] * (n+1)\n",
    "\n",
    "for i in range(0,n):\n",
    "    wt[i], val[i] = list(map(int,input().split()))\n",
    "\n",
    "def knapSack(W, wt, val, n): \n",
    "    K = [[0 for x in range(W+1)] for x in range(n+1)] \n",
    "  \n",
    "    # Build table K[][] in bottom up manner \n",
    "    for i in range(n+1): \n",
    "        for w in range(W+1): \n",
    "            if i==0 or w==0: \n",
    "                K[i][w] = 0\n",
    "            elif wt[i-1] <= w: \n",
    "                K[i][w] = max(val[i-1] + K[i-1][w-wt[i-1]],  K[i-1][w]) \n",
    "            else: \n",
    "                K[i][w] = K[i-1][w] \n",
    "  \n",
    "    return K[n][W] \n",
    "  \n",
    "# Driver program to test above function \n",
    "# val = [30, 50, 60] \n",
    "# wt = [3, 4, 5]\n",
    "# W = 8\n",
    "# n = len(val) \n",
    "print(knapSack(W, wt, val, n))"
   ]
  },
  {
   "cell_type": "code",
   "execution_count": 83,
   "metadata": {},
   "outputs": [
    {
     "data": {
      "text/plain": [
       "80"
      ]
     },
     "execution_count": 83,
     "metadata": {},
     "output_type": "execute_result"
    }
   ],
   "source": [
    "3 8\n",
    "3 30\n",
    "4 50\n",
    "5 60"
   ]
  },
  {
   "cell_type": "code",
   "execution_count": null,
   "metadata": {},
   "outputs": [],
   "source": []
  }
 ],
 "metadata": {
  "kernelspec": {
   "display_name": "Python 3",
   "language": "python",
   "name": "python3"
  },
  "language_info": {
   "codemirror_mode": {
    "name": "ipython",
    "version": 3
   },
   "file_extension": ".py",
   "mimetype": "text/x-python",
   "name": "python",
   "nbconvert_exporter": "python",
   "pygments_lexer": "ipython3",
   "version": "3.7.4"
  }
 },
 "nbformat": 4,
 "nbformat_minor": 4
}
