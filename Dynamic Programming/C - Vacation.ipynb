{
 "cells": [
  {
   "cell_type": "markdown",
   "metadata": {},
   "source": [
    "## AtCoder\n",
    "https://atcoder.jp/contests/dp/tasks/dp_c"
   ]
  },
  {
   "cell_type": "markdown",
   "metadata": {},
   "source": [
    "### C - Vacation\n",
    "実行時間制限: 2 sec / メモリ制限: 1024 MB\n",
    "\n",
    "配点 : \n",
    "100\n",
    " 点\n",
    "\n",
    "問題文\n",
    "明日から太郎君の夏休みが始まります。 太郎君は夏休みの計画を立てることにしました。\n",
    "\n",
    "夏休みは \n",
    "N\n",
    " 日からなります。 各 \n",
    "i\n",
    " (\n",
    "1\n",
    "≤\n",
    "i\n",
    "≤\n",
    "N\n",
    ") について、\n",
    "i\n",
    " 日目には太郎君は次の活動のうちひとつを選んで行います。\n",
    "\n",
    "A: 海で泳ぐ。 幸福度 \n",
    "a\n",
    "i\n",
    " を得る。\n",
    "B: 山で虫取りをする。 幸福度 \n",
    "b\n",
    "i\n",
    " を得る。\n",
    "C: 家で宿題をする。 幸福度 \n",
    "c\n",
    "i\n",
    " を得る。\n",
    "太郎君は飽き性なので、\n",
    "2\n",
    " 日以上連続で同じ活動を行うことはできません。\n",
    "\n",
    "太郎君が得る幸福度の総和の最大値を求めてください。\n",
    "\n",
    "制約\n",
    "入力はすべて整数である。\\\n",
    "1\n",
    "≤\n",
    "N\n",
    "≤\n",
    "10^5 \\\n",
    "\n",
    "1\n",
    "≤\n",
    "a\n",
    "i\n",
    ",\n",
    "b\n",
    "i\n",
    ",\n",
    "c\n",
    "i\n",
    "≤\n",
    "10^4"
   ]
  },
  {
   "cell_type": "markdown",
   "metadata": {},
   "source": [
    "入力\n",
    "入力は以下の形式で標準入力から与えられる。\n",
    "\n",
    "N \\\n",
    "a1 b1 c1\\\n",
    "a2 b2 c2 \\\n",
    "    : \\\n",
    "aN bN cN"
   ]
  },
  {
   "cell_type": "code",
   "execution_count": 2,
   "metadata": {},
   "outputs": [
    {
     "name": "stdout",
     "output_type": "stream",
     "text": [
      "3\n",
      "10 40 70\n",
      "20 50 80\n",
      "30 60 90\n"
     ]
    }
   ],
   "source": [
    "N = int(input())\n",
    "h = []\n",
    "for i in range(N):\n",
    "    abc = [int(x) for x in input().split()]\n",
    "    h.append(abc)"
   ]
  },
  {
   "cell_type": "code",
   "execution_count": 12,
   "metadata": {},
   "outputs": [],
   "source": [
    "# DP計算用の値\n",
    "aDP = [0]*N\n",
    "bDP = [0]*N\n",
    "cDP = [0]*N"
   ]
  },
  {
   "cell_type": "code",
   "execution_count": 13,
   "metadata": {},
   "outputs": [],
   "source": [
    "# 初期値\n",
    "aDP[0] = h[0][0]\n",
    "bDP[0] = h[0][1]\n",
    "cDP[0] = h[0][2]"
   ]
  },
  {
   "cell_type": "code",
   "execution_count": 18,
   "metadata": {},
   "outputs": [
    {
     "data": {
      "text/plain": [
       "20"
      ]
     },
     "execution_count": 18,
     "metadata": {},
     "output_type": "execute_result"
    }
   ],
   "source": [
    "h[1][0]"
   ]
  },
  {
   "cell_type": "code",
   "execution_count": 20,
   "metadata": {},
   "outputs": [
    {
     "name": "stdout",
     "output_type": "stream",
     "text": [
      "40\n",
      "70\n"
     ]
    }
   ],
   "source": [
    "print(bDP[0])\n",
    "print(cDP[0])"
   ]
  },
  {
   "cell_type": "code",
   "execution_count": 10,
   "metadata": {},
   "outputs": [],
   "source": [
    "for i in range(1,N):\n",
    "    aDP[i] = h[i][0] + max(bDP[i-1],cDP[i-1])\n",
    "    bDP[i] = h[i][1] + max(aDP[i-1],cDP[i-1])\n",
    "    cDP[i] = h[i][2] + max(bDP[i-1],aDP[i-1])"
   ]
  },
  {
   "cell_type": "code",
   "execution_count": 11,
   "metadata": {},
   "outputs": [
    {
     "name": "stdout",
     "output_type": "stream",
     "text": [
      "210\n"
     ]
    }
   ],
   "source": [
    "print(max(aDP[N-1],bDP[N-1],cDP[N-1]))"
   ]
  },
  {
   "cell_type": "markdown",
   "metadata": {},
   "source": [
    "## プログラム全体"
   ]
  },
  {
   "cell_type": "code",
   "execution_count": 27,
   "metadata": {
    "scrolled": true
   },
   "outputs": [
    {
     "name": "stdout",
     "output_type": "stream",
     "text": [
      "3\n",
      "10 40 70\n",
      "20 50 80\n",
      "30 60 90\n",
      "210\n"
     ]
    }
   ],
   "source": [
    "N = int(input())\n",
    "h = []\n",
    "for i in range(N):\n",
    "    abc = [int(x) for x in input().split()]\n",
    "    h.append(abc)\n",
    "aDP = [0]*N\n",
    "bDP = [0]*N\n",
    "cDP = [0]*N\n",
    "aDP[0] = h[0][0]\n",
    "bDP[0] = h[0][1]\n",
    "cDP[0] = h[0][2]\n",
    "for i in range(1,N):\n",
    "    aDP[i] = h[i][0] + max(bDP[i-1],cDP[i-1])\n",
    "    bDP[i] = h[i][1] + max(aDP[i-1],cDP[i-1])\n",
    "    cDP[i] = h[i][2] + max(bDP[i-1],aDP[i-1])\n",
    "print(max(aDP[N-1],bDP[N-1],cDP[N-1]))"
   ]
  },
  {
   "cell_type": "markdown",
   "metadata": {},
   "source": [
    "## 解析\n",
    "https://www.planeta.tokyo/entry/4108/"
   ]
  },
  {
   "cell_type": "code",
   "execution_count": 1,
   "metadata": {},
   "outputs": [
    {
     "name": "stdout",
     "output_type": "stream",
     "text": [
      "3\n",
      "10 40 70\n",
      "20 50 80\n",
      "30 60 90\n",
      "[[0, 0, 0], [0, 0, 0], [0, 0, 0]]\n",
      "210\n"
     ]
    }
   ],
   "source": [
    "N = int(input())\n",
    "a, b, c = [0] * N, [0] * N, [0] * N\n",
    "for i in range(N):\n",
    "    a[i], b[i], c[i] = map(int, input().split())\n",
    "dp = [[0] * 3 for _ in range(N)]\n",
    "print(dp)\n",
    "dp[0] = [a[0], b[0], c[0]]\n",
    "for i in range(N - 1):\n",
    "    dp[i + 1][0] = max(dp[i + 1][0], dp[i][1] + a[i + 1], dp[i][2] + a[i + 1])\n",
    "    dp[i + 1][1] = max(dp[i + 1][1], dp[i][0] + b[i + 1], dp[i][2] + b[i + 1])\n",
    "    dp[i + 1][2] = max(dp[i + 1][2], dp[i][0] + c[i + 1], dp[i][1] + c[i + 1])\n",
    "print(max(dp[N - 1]))"
   ]
  }
 ],
 "metadata": {
  "kernelspec": {
   "display_name": "Python 3",
   "language": "python",
   "name": "python3"
  },
  "language_info": {
   "codemirror_mode": {
    "name": "ipython",
    "version": 3
   },
   "file_extension": ".py",
   "mimetype": "text/x-python",
   "name": "python",
   "nbconvert_exporter": "python",
   "pygments_lexer": "ipython3",
   "version": "3.7.4"
  }
 },
 "nbformat": 4,
 "nbformat_minor": 2
}
