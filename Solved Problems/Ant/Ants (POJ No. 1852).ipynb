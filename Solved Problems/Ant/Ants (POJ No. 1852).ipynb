{
 "cells": [
  {
   "cell_type": "code",
   "execution_count": 5,
   "metadata": {},
   "outputs": [
    {
     "name": "stdout",
     "output_type": "stream",
     "text": [
      "4 7\n"
     ]
    }
   ],
   "source": [
    "##n L\n",
    "n, L, x = 3, 10, [2,6,7]\n",
    "\n",
    "minT = 0\n",
    "for i in range(n):\n",
    "    minT = max(minT, min(x[i],L - x[i]))\n",
    "    \n",
    "maxT = 0\n",
    "for j in range(n):\n",
    "    maxT = max(maxT, max(x[i], L - x[i]))\n",
    "    \n",
    "print(minT, maxT)"
   ]
  },
  {
   "cell_type": "code",
   "execution_count": null,
   "metadata": {},
   "outputs": [],
   "source": []
  }
 ],
 "metadata": {
  "kernelspec": {
   "display_name": "Python 3",
   "language": "python",
   "name": "python3"
  },
  "language_info": {
   "codemirror_mode": {
    "name": "ipython",
    "version": 3
   },
   "file_extension": ".py",
   "mimetype": "text/x-python",
   "name": "python",
   "nbconvert_exporter": "python",
   "pygments_lexer": "ipython3",
   "version": "3.7.4"
  }
 },
 "nbformat": 4,
 "nbformat_minor": 2
}
