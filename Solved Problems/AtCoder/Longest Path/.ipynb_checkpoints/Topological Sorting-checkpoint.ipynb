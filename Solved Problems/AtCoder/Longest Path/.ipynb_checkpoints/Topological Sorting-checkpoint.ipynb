{
 "cells": [
  {
   "cell_type": "code",
   "execution_count": 8,
   "metadata": {},
   "outputs": [
    {
     "name": "stdin",
     "output_type": "stream",
     "text": [
      " 5 8\n",
      " 5 3\n",
      " 2 3\n",
      " 2 4\n",
      " 5 2\n",
      " 5 1\n",
      " 1 4\n",
      " 4 3\n",
      " 1 3\n"
     ]
    },
    {
     "name": "stdout",
     "output_type": "stream",
     "text": [
      "3\n"
     ]
    }
   ],
   "source": [
    "N, M = map(int, input().split())\n",
    "\n",
    "# 隣接リストを作成\n",
    "adjacencyList = [[] for _ in range(N)]\n",
    "\n",
    "# 距離の情報\n",
    "dp = [0] * N\n",
    "\n",
    "# 入次数　（いりじすう）\n",
    "deg = [0] * N\n",
    "\n",
    "for _ in range(M):\n",
    "    v, nv = map(int, input().split())\n",
    "    adjacencyList[v-1].append(nv-1)\n",
    "    #　入次数に1を足す\n",
    "    deg[nv-1] += 1\n",
    "    \n",
    "queue = []\n",
    "\n",
    "# BFS探索\n",
    "# 入次数がゼロの頂点から探索を始める\n",
    "for v in range(N):\n",
    "    if deg[v] == 0:\n",
    "        queue.append(v)\n",
    "\n",
    "while queue:\n",
    "    # 現在の頂点をqueueからpop\n",
    "    v = queue.pop(0)\n",
    "    for nv in adjacencyList[v]:\n",
    "        # 探索済みの頂点の入次数を減らす\n",
    "        deg[nv] -= 1\n",
    "        \n",
    "        # 完全に探索済みの頂点の入次数がゼロの時、経路の距離を出発点から計算\n",
    "        if deg[nv] == 0:\n",
    "            # 頂点をqueueに追加する\n",
    "            queue.append(nv)\n",
    "            dp[nv] = max(dp[v] + 1, dp[nv])\n",
    "            \n",
    "print(max(dp))"
   ]
  },
  {
   "cell_type": "code",
   "execution_count": null,
   "metadata": {},
   "outputs": [],
   "source": [
    "import sys\n",
    "\n",
    "# input処理を高速化する\n",
    "input = sys.stdin.readline\n",
    "\n",
    "def main():\n",
    "    N, M = map(int, input().split())\n",
    "\n",
    "    # 隣接リストを作成\n",
    "    adjacencyList = [[] for _ in range(N)]\n",
    "\n",
    "    # 距離の情報\n",
    "    dp = [0] * N\n",
    "\n",
    "    # 入次数　（いりじすう）\n",
    "    deg = [0] * N\n",
    "\n",
    "    for _ in range(M):\n",
    "        v, nv = map(int, input().split())\n",
    "        adjacencyList[v-1].append(nv-1)\n",
    "        #　入次数に1を足す\n",
    "        deg[nv-1] += 1\n",
    "\n",
    "    queue = []\n",
    "\n",
    "    # BFS探索\n",
    "    # 入次数がゼロの頂点から探索を始める\n",
    "    for v in range(N):\n",
    "        if deg[v] == 0:\n",
    "            queue.append(v)\n",
    "\n",
    "    while queue:\n",
    "        # 現在の頂点をqueueからpop\n",
    "        v = queue.pop(0)\n",
    "        for nv in adjacencyList[v]:\n",
    "            # 探索済みの頂点の入次数を減らす\n",
    "            deg[nv] -= 1\n",
    "\n",
    "            # 完全に探索済みの頂点の入次数がゼロの時、経路の距離を出発点から計算\n",
    "            if deg[nv] == 0:\n",
    "                # 頂点をqueueに追加する\n",
    "                queue.append(nv)\n",
    "                dp[nv] = max(dp[v] + 1, dp[nv])\n",
    "\n",
    "    print(max(dp))\n",
    "    \n",
    "main()"
   ]
  }
 ],
 "metadata": {
  "kernelspec": {
   "display_name": "Python 3",
   "language": "python",
   "name": "python3"
  },
  "language_info": {
   "codemirror_mode": {
    "name": "ipython",
    "version": 3
   },
   "file_extension": ".py",
   "mimetype": "text/x-python",
   "name": "python",
   "nbconvert_exporter": "python",
   "pygments_lexer": "ipython3",
   "version": "3.7.7"
  }
 },
 "nbformat": 4,
 "nbformat_minor": 4
}
