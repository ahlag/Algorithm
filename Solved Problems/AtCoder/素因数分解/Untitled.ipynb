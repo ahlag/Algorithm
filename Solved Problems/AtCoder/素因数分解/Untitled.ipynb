{
 "cells": [
  {
   "cell_type": "code",
   "execution_count": 23,
   "metadata": {},
   "outputs": [
    {
     "name": "stdin",
     "output_type": "stream",
     "text": [
      " 8\n"
     ]
    },
    {
     "name": "stdout",
     "output_type": "stream",
     "text": [
      "2 2 2 "
     ]
    }
   ],
   "source": [
    "n = int(input())\n",
    "\n",
    "for i in range(2, int(n ** 0.5) + 1):\n",
    "    while n % i == 0:\n",
    "        print(i, end=' ')\n",
    "        n //= i\n",
    "        \n",
    "if n > 2:\n",
    "    print(n, end=' ')"
   ]
  },
  {
   "cell_type": "code",
   "execution_count": 26,
   "metadata": {},
   "outputs": [],
   "source": [
    "def pow_k(x, n):\n",
    "    \"\"\"\n",
    "    O(log n)\n",
    "    \"\"\"\n",
    "    if n == 0:\n",
    "        return 1\n",
    "    K = 1\n",
    "    while n > 1:\n",
    "        if n % 2 != 0:\n",
    "            K = K * x\n",
    "            x = x ** 2\n",
    "            n = (n - 1) // 2\n",
    "        else:\n",
    "            x = x ** 2\n",
    "            n = n // 2\n",
    "\n",
    "    return (K * x) % 1000000007 # 指数を割り続け n が 1 に至ったら終了"
   ]
  },
  {
   "cell_type": "code",
   "execution_count": 27,
   "metadata": {},
   "outputs": [
    {
     "name": "stdout",
     "output_type": "stream",
     "text": [
      "16\n",
      "65536\n"
     ]
    },
    {
     "data": {
      "text/plain": [
       "1048576"
      ]
     },
     "execution_count": 27,
     "metadata": {},
     "output_type": "execute_result"
    }
   ],
   "source": [
    "pow_k(2, 20)"
   ]
  },
  {
   "cell_type": "code",
   "execution_count": 33,
   "metadata": {},
   "outputs": [
    {
     "name": "stdin",
     "output_type": "stream",
     "text": [
      " 39 5325621\n"
     ]
    },
    {
     "name": "stdout",
     "output_type": "stream",
     "text": [
      "717283387\n"
     ]
    }
   ],
   "source": [
    "x, n = map(int, input().split())\n",
    "\n",
    "def pow_k(x, n):\n",
    "    \"\"\"\n",
    "    O(log n)\n",
    "    \"\"\"\n",
    "    if n == 0:\n",
    "        return 1\n",
    "\n",
    "    K = 1\n",
    "    while n > 1:\n",
    "        if n % 2 != 0:\n",
    "            K *= x\n",
    "        x *= x\n",
    "        n //= 2\n",
    "\n",
    "    return (K * x) % 1000000007\n",
    "\n",
    "print(pow_k(x, n))"
   ]
  },
  {
   "cell_type": "code",
   "execution_count": null,
   "metadata": {},
   "outputs": [],
   "source": [
    "mod = 1000000007\n",
    "x, n = map(int, input().split())\n",
    "\n",
    "def power_k(x, y):\n",
    "    if y == 0:\n",
    "        return 1\n",
    "    elif y == 1:\n",
    "        return x % mod\n",
    "    elif y % 2 == 0:\n",
    "        return power(x, y/2)**2 % mod\n",
    "    else:\n",
    "        return power(x, int(y/2))**2 * x % mod\n",
    "\n",
    "print(power_k(x, n))"
   ]
  },
  {
   "cell_type": "code",
   "execution_count": 35,
   "metadata": {},
   "outputs": [
    {
     "name": "stdin",
     "output_type": "stream",
     "text": [
      " 39 5325621\n"
     ]
    },
    {
     "name": "stdout",
     "output_type": "stream",
     "text": [
      "717283387\n"
     ]
    }
   ],
   "source": [
    "mod = 1000000007\n",
    "x, n = map(int, input().split())\n",
    "\n",
    "def pow_r(x, n):\n",
    "    \"\"\"\n",
    "    O(log n)\n",
    "    \"\"\"\n",
    "    if n == 0:  # exit case\n",
    "        return 1\n",
    "    if n % 2 == 0:  # standard case ① n is even\n",
    "        return pow_r(x ** 2, n // 2) % mod\n",
    "    else:  # standard case ② n is odd\n",
    "        return x * pow_r(x ** 2, (n - 1) // 2) % mod\n",
    "    \n",
    "print(pow_r(x, n))"
   ]
  },
  {
   "cell_type": "code",
   "execution_count": 4,
   "metadata": {},
   "outputs": [
    {
     "name": "stdout",
     "output_type": "stream",
     "text": [
      "62.601626016260155\n",
      "3.6484245439469323\n",
      "54.32098765432099\n",
      "62.601626016260155\n"
     ]
    }
   ],
   "source": [
    "import os\n",
    "import sys\n",
    "\n",
    "# N = 100,000; M = 50,000,000; S = 5,000,000,000\n",
    "# N = 40,000; M = 60,000,000; S = 3,200,000,000\n",
    "# N = 50,000; M = 80,000,000; S = 1,500,000,000\n",
    "# N = 100,000; M = 100,000,000; S = 1,200,000,000\n",
    "soln = [[50000, 40000000, 800000000],\n",
    "        [50000, 200000000, 2500000000],\n",
    "        [50000, 80000000, 1500000000],\n",
    "        [100000, 40000000, 800000000]]\n",
    "\n",
    "def a(N, M):\n",
    "    memory = min(12*(M + 10**6), 4*N+2*N*(N-1))\n",
    "    #memory = min(12*(M + 10**6), 4*N*N)\n",
    "    return memory\n",
    "\n",
    "def pct(e, a):\n",
    "    return 100 * (abs(e - a) / float(a))\n",
    "\n",
    "for n, m, s in soln:\n",
    "    print(pct(s, a(n, m)))"
   ]
  },
  {
   "cell_type": "code",
   "execution_count": 5,
   "metadata": {},
   "outputs": [
    {
     "name": "stdout",
     "output_type": "stream",
     "text": [
      "Point (3.9, 4.3) is classified as negative\n",
      "Point (2.6, 4.4) is classified as negative\n",
      "Point (4.1, 4.1) is classified as positive\n",
      "Point (2.2, 4.7) is classified as negative\n"
     ]
    }
   ],
   "source": [
    "import numpy as np\n",
    "\n",
    "TRAINING_SET = {\n",
    "    (1, 4): 0,\n",
    "    (3, 3): 0,\n",
    "    (3, 1): 0,\n",
    "    (3, 6): 1,\n",
    "    (5, 3): 1,\n",
    "}\n",
    "\n",
    "TEST_POINTS = [(3.9, 4.3),\n",
    "               (2.6, 4.4),\n",
    "               (4.1, 4.1),\n",
    "               (2.2, 4.7)]\n",
    "\n",
    "def distance(p1, p2):\n",
    "    return np.linalg.norm(np.array(p1) - np.array(p2))\n",
    "\n",
    "def classify_point(point):\n",
    "    min_dist = None\n",
    "    closest = None\n",
    "    for example in TRAINING_SET.keys():\n",
    "        dist = distance(example, point)\n",
    "        if min_dist is None or dist < min_dist:\n",
    "            min_dist = dist\n",
    "            closest = example\n",
    "    return TRAINING_SET[closest]\n",
    "\n",
    "for point in TEST_POINTS:\n",
    "    classification = 'positive' if classify_point(point) == 1 else 'negative'\n",
    "    print('Point {} is classified as {}'.format(point, classification))"
   ]
  },
  {
   "cell_type": "code",
   "execution_count": 6,
   "metadata": {},
   "outputs": [
    {
     "name": "stdout",
     "output_type": "stream",
     "text": [
      "c: 8, a: -5/6\n"
     ]
    }
   ],
   "source": [
    "\n",
    "from fractions import Fraction\n",
    "\n",
    "points = [(5, 4,  1),\n",
    "          (8, 3,  1),\n",
    "          (3, 3, -1),\n",
    "          (7, 2, -1)]\n",
    "\n",
    "possible_values = [(6, -1/3),\n",
    "                   (5, -4/9),\n",
    "                   (7, -4/7),\n",
    "                   (8, -5/6)]\n",
    "\n",
    "for c, a in possible_values:\n",
    "    is_possible = True\n",
    "    for u, v, result in points:\n",
    "        boundary = c + a * u\n",
    "        if v >= boundary and result != 1:\n",
    "            is_possible = False\n",
    "        elif v < boundary and result != -1:\n",
    "            is_possible = False\n",
    "    if is_possible:\n",
    "        print('c: {}, a: {}'.format(c, Fraction(a).limit_denominator()))"
   ]
  },
  {
   "cell_type": "code",
   "execution_count": 8,
   "metadata": {},
   "outputs": [
    {
     "name": "stdout",
     "output_type": "stream",
     "text": [
      "1: False\n",
      "2: False\n",
      "3: False\n",
      "4: True\n"
     ]
    }
   ],
   "source": [
    "β = 0.85\n",
    "\n",
    "a = 1.0 / (1 - np.power(β, 3))\n",
    "b = β / (1.0 + β + np.power(β, 2))\n",
    "c = np.power(β, 2) / (1.0 + β + np.power(β, 2))\n",
    "\n",
    "# Round results to 2 decimals\n",
    "a, b, c = round(a, 2), round(b, 2), round(c, 2)\n",
    "\n",
    "print(\"1:\", b == 0.46)\n",
    "print(\"2:\", a == 3.60)\n",
    "print(\"3:\", b == 0.21)\n",
    "print(\"4:\", a == 2.59)"
   ]
  },
  {
   "cell_type": "code",
   "execution_count": 17,
   "metadata": {},
   "outputs": [
    {
     "name": "stdout",
     "output_type": "stream",
     "text": [
      "Point: [66  5], L1 centroid: [100  40], L2 centroid: [100  40]\n",
      "Point: [61 10], L1 centroid: [100  40], L2 centroid: [100  40]\n",
      "Point: [51 18], L1 centroid: [0 0], L2 centroid: [100  40]\n",
      "Point: [63  8], L1 centroid: [100  40], L2 centroid: [100  40]\n"
     ]
    }
   ],
   "source": [
    "points = np.array([[66, 5],\n",
    "                   [61, 10],\n",
    "                   [51, 18],\n",
    "                   [63,  8]])\n",
    "\n",
    "centroids = np.array([[  0,  0],\n",
    "                      [100, 40]])\n",
    "\n",
    "def closest_centroid(centroids, point, norm_func):\n",
    "    closest = None\n",
    "    min_dist = None\n",
    "    for centroid in centroids:\n",
    "        dist = norm_func(centroid, point)\n",
    "        if closest is None or dist < min_dist:\n",
    "            closest = centroid\n",
    "            min_dist = dist\n",
    "    return closest\n",
    "\n",
    "def l1_norm(centroid, point):\n",
    "    return sum([\n",
    "        abs(centroid[dim] - point[dim])\n",
    "        for dim in range(0, len(centroid))\n",
    "    ])\n",
    "\n",
    "def l2_norm(centroid, point):\n",
    "    return np.sqrt(sum([\n",
    "        (centroid[dim] - point[dim]) ** 2\n",
    "        for dim in range(0, len(centroid))\n",
    "    ]))\n",
    "\n",
    "\n",
    "for point in points:\n",
    "    l1_centroid = closest_centroid(centroids, point, l1_norm)\n",
    "    l2_centroid = closest_centroid(centroids, point, l2_norm)\n",
    "    print('Point: {}, L1 centroid: {}, L2 centroid: {}'.format(\n",
    "        point,\n",
    "        l1_centroid,\n",
    "        l2_centroid,\n",
    "    ))"
   ]
  },
  {
   "cell_type": "code",
   "execution_count": 16,
   "metadata": {},
   "outputs": [
    {
     "name": "stdout",
     "output_type": "stream",
     "text": [
      "Clustering ([1, 4, 9, 16, 25, 36, 49, 64], [81, 100]) with initial centroids (49, 81) changed to ([1, 4, 9, 16, 25, 36, 49], [64, 81, 100])\n",
      "\n",
      "Clustering ([1, 4, 9, 16, 25, 36], [49, 64, 81, 100]) with initial centroids (4, 81) changed to ([1, 4, 9, 16, 25, 36], [49, 64, 81, 100])\n",
      "\n",
      "Clustering ([1, 4, 9, 16, 25, 36, 49], [64, 81, 100]) with initial centroids (36, 64) changed to ([1, 4, 9, 16, 25, 36, 49], [64, 81, 100])\n",
      "\n",
      "Clustering ([1, 4, 9], [16, 25, 36, 49, 64, 81, 100]) with initial centroids (4, 16) changed to ([1, 4, 9, 16, 25], [36, 49, 64, 81, 100])\n",
      "\n"
     ]
    }
   ],
   "source": [
    "\n",
    "numbers = [i ** 2 for i in range(1, 11)]\n",
    "clusterings = [(numbers[:n], numbers[n:]) for n in range(1, len(numbers))]\n",
    "\n",
    "initial_centroid_sets = [(49, 81),\n",
    "                         ( 4, 81),\n",
    "                         ( 36, 64),\n",
    "                         (4, 16)]\n",
    "\n",
    "def find_clustering(clusterings, centroid_mean):\n",
    "    for clusters in clusterings:\n",
    "        cluster1, cluster2 = clusters\n",
    "        if cluster1[-1] <= centroid_mean and cluster2[0] >= centroid_mean:\n",
    "            return clusters\n",
    "        \n",
    "def calc_centroid(cluster):\n",
    "    return sum(cluster) / len(cluster)\n",
    "\n",
    "for initial_centroids in initial_centroid_sets:\n",
    "    mean = np.mean(initial_centroids)\n",
    "    clusters = find_clustering(clusterings, mean)\n",
    "    new_centroids = tuple(calc_centroid(cluster) for cluster in clusters)\n",
    "    new_mean = np.mean(new_centroids)\n",
    "    new_clusters = find_clustering(clusterings, new_mean)\n",
    "    print('Clustering {} with initial centroids {} changed to {}'.format(\n",
    "        clusters,\n",
    "        initial_centroids,\n",
    "        new_clusters,\n",
    "    ))\n",
    "    print()"
   ]
  },
  {
   "cell_type": "code",
   "execution_count": 21,
   "metadata": {},
   "outputs": [
    {
     "name": "stdout",
     "output_type": "stream",
     "text": [
      "Surprise Number: 565\n",
      "Est. Surprise Number with variables at 31, 48, 50 timestamps: 375\n",
      "Est. Surprise Number with variables at 3, 45, 72 timestamps: 525\n",
      "Est. Surprise Number with variables at 25, 34, 47 timestamps: 675\n",
      "Est. Surprise Number with variables at 20, 49, 53 timestamps: 375\n"
     ]
    }
   ],
   "source": [
    "from collections import Counter\n",
    "from itertools import cycle\n",
    "import random\n",
    "from statistics import median\n",
    "\n",
    "source = cycle(range(1, 11))\n",
    "stream = [next(source) for n in range(0, 75)]\n",
    "\n",
    "def surprise_number(stream):\n",
    "    counter = Counter(stream)\n",
    "    return sum(count ** 2 for (element, count) in counter.items())\n",
    "    \n",
    "def estimate_surprise_number(stream, timestamps):\n",
    "    estimates = []\n",
    "    for ts in timestamps:\n",
    "        element = stream[ts - 1]\n",
    "        count = stream[ts - 1:].count(element)\n",
    "        estimate = len(stream) * (2 * count - 1)\n",
    "        estimates.append(estimate)\n",
    "    return median(estimates)\n",
    "\n",
    "variables = [(31, 48, 50),\n",
    "             (3, 45, 72),\n",
    "             (25, 34, 47),\n",
    "             (20, 49, 53)]\n",
    "\n",
    "print('Surprise Number: {}'.format(surprise_number(stream)))\n",
    "    \n",
    "for timestamps in variables:\n",
    "    print('Est. Surprise Number with variables at {}, {}, {} timestamps: {}'.format(\n",
    "        *timestamps,\n",
    "        estimate_surprise_number(stream, timestamps),\n",
    "    ))"
   ]
  },
  {
   "cell_type": "code",
   "execution_count": 20,
   "metadata": {},
   "outputs": [
    {
     "name": "stdout",
     "output_type": "stream",
     "text": [
      "Estimate for elements (2, 4, 6, 10): 8\n",
      "Estimate for elements (3, 4, 8, 10): 8\n",
      "Estimate for elements (2, 3, 6, 9): 2\n",
      "Estimate for elements (2, 6, 8, 10): 4\n"
     ]
    }
   ],
   "source": [
    "ossible_elements = range(1, 11)\n",
    "\n",
    "element_sets = [(2, 4, 6, 10),\n",
    "                (3, 4, 8, 10),\n",
    "                (2, 3, 6,  9),\n",
    "                (2, 6, 8, 10)]\n",
    "\n",
    "def hash_function(x):\n",
    "    number = (3 * x + 7) % 11\n",
    "    return format(number, '04b')\n",
    "    \n",
    "for elements in element_sets:\n",
    "    hashes = []\n",
    "    for el in elements:\n",
    "        hashes.append(hash_function(el))\n",
    "    max_trailing_zeroes = max([len(h) - len(h.rstrip('0')) for h in hashes])\n",
    "    print('Estimate for elements {}: {}'.format(elements, 2 ** max_trailing_zeroes))"
   ]
  },
  {
   "cell_type": "code",
   "execution_count": 24,
   "metadata": {},
   "outputs": [
    {
     "name": "stdout",
     "output_type": "stream",
     "text": [
      "Buckets\n",
      "[{'t': 105, 's': 1}, {'t': 104, 's': 2}, {'t': 102, 's': 4}, {'t': 95, 's': 8}, {'t': 80, 's': 8}]\n",
      "\n",
      "1: False\n",
      "2: True\n",
      "3: False\n",
      "4: False\n"
     ]
    }
   ],
   "source": [
    "WINDOW_LENGTH = 40\n",
    "\n",
    "def merge_buckets(a, b):\n",
    "    return {\"t\": max(a[\"t\"], b[\"t\"]), \"s\": a[\"s\"] + b[\"s\"]}\n",
    "\n",
    "def update_buckets(buckets):\n",
    "    for i in range(101, 106):\n",
    "        # Remove buckets that fall outside the window\n",
    "        if i - buckets[-1][\"t\"] >= WINDOW_LENGTH:\n",
    "            buckets.pop()\n",
    "        # Insert new stream element\n",
    "        buckets.insert(0, {\"t\": i, \"s\": 1})\n",
    "        for i in range(0, len(buckets)-2):\n",
    "            if not i+3 > len(buckets):\n",
    "                # Perform a merge if merge criteria is met\n",
    "                if(buckets[i][\"s\"] == buckets[i+1][\"s\"] == buckets[i+2][\"s\"]):\n",
    "                    buckets[i+1] = merge_buckets(buckets[i+1], buckets[i+2])\n",
    "                    del buckets[i+2]\n",
    "                    # Reiterate to see if any new merges are possible\n",
    "                    i = 0\n",
    "    return buckets\n",
    "\n",
    "buckets = [\n",
    "    {\"t\": 100, \"s\": 1},\n",
    "    {\"t\": 98, \"s\": 1},\n",
    "    {\"t\": 95, \"s\": 2},\n",
    "    {\"t\": 92, \"s\": 2},\n",
    "    {\"t\": 87, \"s\": 4},\n",
    "    {\"t\": 80, \"s\": 8},\n",
    "    {\"t\": 65, \"s\": 8},\n",
    "]    \n",
    " \n",
    "test = [\n",
    "    {\"t\": 103, \"s\": 1},\n",
    "    {\"t\": 80, \"s\": 8},\n",
    "    {\"t\": 103, \"s\": 2},\n",
    "    {\"t\": 95, \"s\": 4}]      \n",
    "    \n",
    "buckets = update_buckets(buckets)\n",
    "\n",
    "print(\"Buckets\")\n",
    "print(buckets)\n",
    "print()\n",
    "\n",
    "for i in range(len(test)):\n",
    "    print(str(i+1) + \":\", test[i] in buckets)"
   ]
  },
  {
   "cell_type": "code",
   "execution_count": 25,
   "metadata": {},
   "outputs": [
    {
     "name": "stdout",
     "output_type": "stream",
     "text": [
      "Usage\n",
      "[9999900.0, 10000000.000000002, 1000000.0, 10000.0]\n",
      "\n",
      "1 False\n",
      "2 False\n",
      "3 False\n",
      "4 False\n"
     ]
    }
   ],
   "source": [
    "test = [\n",
    "    {\"n\": 10**9, \"t\": 99999},\n",
    "    {\"n\": 10**10, \"t\": 100000},\n",
    "    {\"n\": 10**10, \"t\": 10000},\n",
    "    {\"n\": 10**12, \"t\": 100}\n",
    "]\n",
    "\n",
    "def compute(t, n):\n",
    "    return (t / n) * n * 100\n",
    "\n",
    "usage = [compute(x[\"t\"], x[\"n\"]) for x in test]\n",
    "\n",
    "print(\"Usage\")\n",
    "print(usage)\n",
    "print()\n",
    "\n",
    "for i, r in enumerate(usage):\n",
    "    print(str(i+1), r < 1010)"
   ]
  },
  {
   "cell_type": "code",
   "execution_count": 26,
   "metadata": {},
   "outputs": [
    {
     "name": "stdout",
     "output_type": "stream",
     "text": [
      "Emails: 1e+09, threshold: 99999, appropriate threshold: 99999.0\n",
      "Emails: 1e+10, threshold: 100000, appropriate threshold: 9999.0\n",
      "Emails: 1e+10, threshold: 10000, appropriate threshold: 9999.0\n",
      "Emails: 1e+12, threshold: 100, appropriate threshold: 99.0\n"
     ]
    }
   ],
   "source": [
    "storage_space = 10 ** 10\n",
    "email_size = 100\n",
    "\n",
    "variable_sets = [(10 ** 9, 99999),\n",
    "                 (10 ** 10, 100000),\n",
    "                 (10 ** 10, 10000),\n",
    "                 (10 ** 12,   100)]\n",
    "\n",
    "for num_emails, threshold in variable_sets:\n",
    "    total_size = num_emails * email_size\n",
    "    fraction = storage_space / total_size\n",
    "    appropriate_threshold = fraction * 10**6 - 1\n",
    "    print('Emails: {}, threshold: {}, appropriate threshold: {}'.format(\n",
    "        '{:.0e}'.format(num_emails),\n",
    "        threshold,\n",
    "        appropriate_threshold,\n",
    "    ))"
   ]
  },
  {
   "cell_type": "code",
   "execution_count": null,
   "metadata": {},
   "outputs": [],
   "source": []
  }
 ],
 "metadata": {
  "kernelspec": {
   "display_name": "Python 3",
   "language": "python",
   "name": "python3"
  },
  "language_info": {
   "codemirror_mode": {
    "name": "ipython",
    "version": 3
   },
   "file_extension": ".py",
   "mimetype": "text/x-python",
   "name": "python",
   "nbconvert_exporter": "python",
   "pygments_lexer": "ipython3",
   "version": "3.7.7"
  }
 },
 "nbformat": 4,
 "nbformat_minor": 4
}
