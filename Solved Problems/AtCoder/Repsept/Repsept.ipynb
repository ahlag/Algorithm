{
 "cells": [
  {
   "cell_type": "code",
   "execution_count": 8,
   "metadata": {},
   "outputs": [
    {
     "name": "stdin",
     "output_type": "stream",
     "text": [
      " 101\n"
     ]
    },
    {
     "name": "stdout",
     "output_type": "stream",
     "text": [
      "4\n"
     ]
    }
   ],
   "source": [
    "import sys\n",
    "\n",
    "k = int(input())\n",
    "\n",
    "def find_multiple(k):\n",
    "\n",
    "    multiple, cnt = 7, 0\n",
    "\n",
    "    while multiple < sys.maxsize:\n",
    "        cnt += 1\n",
    "        if multiple % k == 0:\n",
    "            return cnt\n",
    "        multiple = int(str(multiple) + '7')\n",
    "\n",
    "    return -1\n",
    "    \n",
    "print(find_multiple(k))"
   ]
  },
  {
   "cell_type": "code",
   "execution_count": 9,
   "metadata": {},
   "outputs": [
    {
     "name": "stdout",
     "output_type": "stream",
     "text": [
      "9223372036854775807\n"
     ]
    }
   ],
   "source": [
    "print(sys.maxsize)"
   ]
  },
  {
   "cell_type": "code",
   "execution_count": 12,
   "metadata": {},
   "outputs": [
    {
     "name": "stdin",
     "output_type": "stream",
     "text": [
      " 999983\n"
     ]
    },
    {
     "ename": "KeyboardInterrupt",
     "evalue": "",
     "output_type": "error",
     "traceback": [
      "\u001b[0;31m---------------------------------------------------------------------------\u001b[0m",
      "\u001b[0;31mKeyboardInterrupt\u001b[0m                         Traceback (most recent call last)",
      "\u001b[0;32m<ipython-input-12-63cb4fd3f813>\u001b[0m in \u001b[0;36m<module>\u001b[0;34m\u001b[0m\n\u001b[1;32m     12\u001b[0m     \u001b[0;32mreturn\u001b[0m \u001b[0;34m-\u001b[0m\u001b[0;36m1\u001b[0m\u001b[0;34m\u001b[0m\u001b[0;34m\u001b[0m\u001b[0m\n\u001b[1;32m     13\u001b[0m \u001b[0;34m\u001b[0m\u001b[0m\n\u001b[0;32m---> 14\u001b[0;31m \u001b[0mprint\u001b[0m\u001b[0;34m(\u001b[0m\u001b[0mfind_multiple\u001b[0m\u001b[0;34m(\u001b[0m\u001b[0mk\u001b[0m\u001b[0;34m)\u001b[0m\u001b[0;34m)\u001b[0m\u001b[0;34m\u001b[0m\u001b[0;34m\u001b[0m\u001b[0m\n\u001b[0m",
      "\u001b[0;32m<ipython-input-12-63cb4fd3f813>\u001b[0m in \u001b[0;36mfind_multiple\u001b[0;34m(k)\u001b[0m\n\u001b[1;32m      6\u001b[0m \u001b[0;34m\u001b[0m\u001b[0m\n\u001b[1;32m      7\u001b[0m     \u001b[0;32mfor\u001b[0m \u001b[0mi\u001b[0m \u001b[0;32min\u001b[0m \u001b[0mrange\u001b[0m\u001b[0;34m(\u001b[0m\u001b[0mk\u001b[0m\u001b[0;34m)\u001b[0m\u001b[0;34m:\u001b[0m\u001b[0;34m\u001b[0m\u001b[0;34m\u001b[0m\u001b[0m\n\u001b[0;32m----> 8\u001b[0;31m         \u001b[0;32mif\u001b[0m \u001b[0mmultiple\u001b[0m \u001b[0;34m%\u001b[0m \u001b[0mk\u001b[0m \u001b[0;34m==\u001b[0m \u001b[0;36m0\u001b[0m\u001b[0;34m:\u001b[0m\u001b[0;34m\u001b[0m\u001b[0;34m\u001b[0m\u001b[0m\n\u001b[0m\u001b[1;32m      9\u001b[0m             \u001b[0;32mreturn\u001b[0m \u001b[0mi\u001b[0m\u001b[0;34m+\u001b[0m\u001b[0;36m1\u001b[0m\u001b[0;34m\u001b[0m\u001b[0;34m\u001b[0m\u001b[0m\n\u001b[1;32m     10\u001b[0m         \u001b[0mmultiple\u001b[0m \u001b[0;34m=\u001b[0m \u001b[0mmultiple\u001b[0m\u001b[0;34m*\u001b[0m\u001b[0;36m10\u001b[0m \u001b[0;34m+\u001b[0m \u001b[0;36m7\u001b[0m\u001b[0;34m\u001b[0m\u001b[0;34m\u001b[0m\u001b[0m\n",
      "\u001b[0;31mKeyboardInterrupt\u001b[0m: "
     ]
    }
   ],
   "source": [
    "k = int(input())\n",
    "\n",
    "def find_multiple(k):\n",
    "\n",
    "    multiple = 7\n",
    "\n",
    "    for i in range(k):\n",
    "        if multiple % k == 0:\n",
    "            return i+1\n",
    "        multiple = multiple*10 + 7\n",
    "\n",
    "    return -1\n",
    "    \n",
    "print(find_multiple(k))"
   ]
  },
  {
   "cell_type": "code",
   "execution_count": 15,
   "metadata": {},
   "outputs": [
    {
     "name": "stdin",
     "output_type": "stream",
     "text": [
      " 999983\n"
     ]
    },
    {
     "name": "stdout",
     "output_type": "stream",
     "text": [
      "999982\n"
     ]
    }
   ],
   "source": [
    "K = int(input())\n",
    "\n",
    "def find_multiple(k):\n",
    "    multiple = 7\n",
    "    for i in range(1, K+1):\n",
    "        b = multiple%K\n",
    "        if b == 0:\n",
    "            return i\n",
    "        multiple = b*10+7\n",
    "    return -1\n",
    "\n",
    "print(find_multiple(K))"
   ]
  },
  {
   "cell_type": "code",
   "execution_count": 6,
   "metadata": {},
   "outputs": [
    {
     "data": {
      "text/plain": [
       "70"
      ]
     },
     "execution_count": 6,
     "metadata": {},
     "output_type": "execute_result"
    }
   ],
   "source": [
    "777 % 101"
   ]
  },
  {
   "cell_type": "code",
   "execution_count": null,
   "metadata": {},
   "outputs": [],
   "source": []
  },
  {
   "cell_type": "code",
   "execution_count": 9,
   "metadata": {},
   "outputs": [
    {
     "data": {
      "text/plain": [
       "0"
      ]
     },
     "execution_count": 9,
     "metadata": {},
     "output_type": "execute_result"
    }
   ],
   "source": [
    "7777 % 101"
   ]
  },
  {
   "cell_type": "code",
   "execution_count": 24,
   "metadata": {},
   "outputs": [
    {
     "name": "stdin",
     "output_type": "stream",
     "text": [
      " 101\n"
     ]
    },
    {
     "name": "stdout",
     "output_type": "stream",
     "text": [
      "-1\n"
     ]
    }
   ],
   "source": [
    "k = int(input())\n",
    "\n",
    "def find_multiple(k):\n",
    "    a = [0] * 1000001\n",
    "    a[1] = k % 7\n",
    "\n",
    "    for i in range(2,k+1):\n",
    "        a[i] = (a[i-1]*10+7)%k\n",
    "\n",
    "    for i in range(1,k+1):\n",
    "        if a[i] == 0:\n",
    "            return i\n",
    "\n",
    "    return -1\n",
    "\n",
    "print(find_multiple(k))"
   ]
  },
  {
   "cell_type": "code",
   "execution_count": 27,
   "metadata": {},
   "outputs": [
    {
     "name": "stdout",
     "output_type": "stream",
     "text": [
      "s:  7\n",
      "initial\n",
      "[1, 0, 0, 0, 0, 0, 0, 0]\n",
      "\n",
      "i:  1\n",
      "[1, 0, 0, 0, 0, 0, 0, 0]\n",
      "i:  2\n",
      "[1, 0, 0, 0, 0, 0, 0, 0]\n",
      "i:  3\n",
      "j:  0\n",
      "[1, 0, 0, 1, 0, 0, 0, 0]\n",
      "i:  4\n",
      "j:  0\n",
      "j:  1\n",
      "[1, 0, 0, 1, 1, 0, 0, 0]\n",
      "i:  5\n",
      "j:  0\n",
      "j:  1\n",
      "j:  2\n",
      "[1, 0, 0, 1, 1, 1, 0, 0]\n",
      "i:  6\n",
      "j:  0\n",
      "j:  1\n",
      "j:  2\n",
      "j:  3\n",
      "[1, 0, 0, 1, 1, 1, 2, 0]\n",
      "i:  7\n",
      "j:  0\n",
      "j:  1\n",
      "j:  2\n",
      "j:  3\n",
      "j:  4\n",
      "[1, 0, 0, 1, 1, 1, 2, 3]\n",
      "\n",
      "final\n",
      "[1, 0, 0, 1, 1, 1, 2, 3]\n",
      "3\n"
     ]
    }
   ],
   "source": [
    "# s = int(input())\n",
    "s = 7\n",
    "\n",
    "print(\"s: \", 7)\n",
    "mod = 10**9+7\n",
    "dp = [0]*(s+1)\n",
    "dp[0] = 1\n",
    "print(\"initial\")\n",
    "print(dp)\n",
    "print()\n",
    "for i in range(1,s+1):\n",
    "    print(\"i: \", i)\n",
    "    for j in range(0,(i-3)+1):\n",
    "        print(\"j: \", j)\n",
    "        dp[i] += dp[j]\n",
    "        dp[i] %= mod\n",
    "    print(dp)\n",
    "    \n",
    "print()\n",
    "print(\"final\")\n",
    "print(dp)\n",
    "print(dp[s])"
   ]
  },
  {
   "cell_type": "code",
   "execution_count": null,
   "metadata": {},
   "outputs": [],
   "source": []
  }
 ],
 "metadata": {
  "kernelspec": {
   "display_name": "Python 3",
   "language": "python",
   "name": "python3"
  },
  "language_info": {
   "codemirror_mode": {
    "name": "ipython",
    "version": 3
   },
   "file_extension": ".py",
   "mimetype": "text/x-python",
   "name": "python",
   "nbconvert_exporter": "python",
   "pygments_lexer": "ipython3",
   "version": "3.8.5"
  }
 },
 "nbformat": 4,
 "nbformat_minor": 4
}
