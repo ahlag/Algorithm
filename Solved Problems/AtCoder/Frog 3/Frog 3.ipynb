{
 "cells": [
  {
   "cell_type": "markdown",
   "metadata": {},
   "source": [
    "## Youtube\n",
    "Li Chao Tree for Competitive Programming (DP Optimization)\n",
    "https://www.youtube.com/watch?v=DknbfinVLLk\n",
    "\n",
    "Dynamic Programming - AtCoder educational dp contest\n",
    "https://www.youtube.com/watch?v=FAQxdm0bTaw\n",
    "\n",
    "## Blog\n",
    "\n",
    "Li Chao Treeのメモ (Python)\n",
    "https://smijake3.hatenablog.com/entry/2018/06/16/144548\n",
    "\n",
    "Convex Hull Trick (Li-Chao (Segment) Tree)\n",
    "https://tjkendev.github.io/procon-library/cpp/convex_hull_trick/li_chao_tree.html\n",
    "\n",
    "考え方\n",
    "http://tutuz.hateblo.jp/entry/2019/02/18/193631\n",
    "\n",
    "[Tutorial] Convex Hull Trick — Geometry being useful\n",
    "https://codeforces.com/blog/entry/63823\n",
    "\n",
    "Educational DP Contest (EDPC) X ~ Z 問題 解説\n",
    "https://qiita.com/Series_205/items/05bd22a4e78527cb29dc\n",
    "\n",
    "Convex hull trick and Li Chao tree\n",
    "https://cp-algorithms.com/geometry/convex_hull_trick.html\n",
    "\n",
    "## AtCoder\n",
    "https://atcoder.jp/contests/dp/tasks/dp_z\n",
    "\n",
    "難易度 : https://github.com/wacchoz/kyopro\n",
    "\n",
    "Forum: https://codeforces.com/blog/entry/64250"
   ]
  },
  {
   "cell_type": "code",
   "execution_count": 11,
   "metadata": {},
   "outputs": [
    {
     "name": "stdout",
     "output_type": "stream",
     "text": [
      "xy\n"
     ]
    }
   ],
   "source": [
    "A = 'xyz'\n",
    "\n",
    "if len(A) == 1:\n",
    "    if ord(A) == ord('a'):\n",
    "        print(-1)\n",
    "    else:\n",
    "        print(chr(ord('b') - 1))\n",
    "else:\n",
    "    print(A[0:-1])"
   ]
  },
  {
   "cell_type": "code",
   "execution_count": 2,
   "metadata": {},
   "outputs": [
    {
     "data": {
      "text/plain": [
       "97"
      ]
     },
     "execution_count": 2,
     "metadata": {},
     "output_type": "execute_result"
    }
   ],
   "source": [
    "ord('a')"
   ]
  },
  {
   "cell_type": "code",
   "execution_count": 5,
   "metadata": {},
   "outputs": [
    {
     "data": {
      "text/plain": [
       "'a'"
      ]
     },
     "execution_count": 5,
     "metadata": {},
     "output_type": "execute_result"
    }
   ],
   "source": [
    "chr(ord('b') - 1)"
   ]
  },
  {
   "cell_type": "code",
   "execution_count": 7,
   "metadata": {},
   "outputs": [],
   "source": [
    "A = 'xyz'"
   ]
  },
  {
   "cell_type": "code",
   "execution_count": 8,
   "metadata": {},
   "outputs": [
    {
     "data": {
      "text/plain": [
       "'xyz'"
      ]
     },
     "execution_count": 8,
     "metadata": {},
     "output_type": "execute_result"
    }
   ],
   "source": [
    "A"
   ]
  },
  {
   "cell_type": "code",
   "execution_count": 9,
   "metadata": {},
   "outputs": [
    {
     "data": {
      "text/plain": [
       "'xy'"
      ]
     },
     "execution_count": 9,
     "metadata": {},
     "output_type": "execute_result"
    }
   ],
   "source": [
    "A[0:-1]"
   ]
  },
  {
   "cell_type": "code",
   "execution_count": 12,
   "metadata": {},
   "outputs": [
    {
     "data": {
      "text/plain": [
       "True"
      ]
     },
     "execution_count": 12,
     "metadata": {},
     "output_type": "execute_result"
    }
   ],
   "source": [
    "'aaa' < 'aaaa'"
   ]
  }
 ],
 "metadata": {
  "kernelspec": {
   "display_name": "Python 3",
   "language": "python",
   "name": "python3"
  },
  "language_info": {
   "codemirror_mode": {
    "name": "ipython",
    "version": 3
   },
   "file_extension": ".py",
   "mimetype": "text/x-python",
   "name": "python",
   "nbconvert_exporter": "python",
   "pygments_lexer": "ipython3",
   "version": "3.7.7"
  }
 },
 "nbformat": 4,
 "nbformat_minor": 4
}
