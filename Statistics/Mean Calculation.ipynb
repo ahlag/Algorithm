{
 "cells": [
  {
   "cell_type": "markdown",
   "metadata": {},
   "source": [
    "## Mean Calculation\n",
    "Mean, Geometric Mean, Trimmed Mean"
   ]
  },
  {
   "cell_type": "code",
   "execution_count": 1,
   "metadata": {},
   "outputs": [
    {
     "data": {
      "text/plain": [
       "41.2"
      ]
     },
     "execution_count": 1,
     "metadata": {},
     "output_type": "execute_result"
    }
   ],
   "source": [
    "from statistics import mean\n",
    "\n",
    "score = [1,4,99,100,2]\n",
    "\n",
    "mean(score)"
   ]
  },
  {
   "cell_type": "code",
   "execution_count": 7,
   "metadata": {},
   "outputs": [
    {
     "data": {
      "text/plain": [
       "9.544320977417422"
      ]
     },
     "execution_count": 7,
     "metadata": {},
     "output_type": "execute_result"
    }
   ],
   "source": [
    "from scipy.stats import gmean, trim_mean\n",
    "gmean(score)"
   ]
  },
  {
   "cell_type": "code",
   "execution_count": 9,
   "metadata": {},
   "outputs": [
    {
     "data": {
      "text/plain": [
       "41.2"
      ]
     },
     "execution_count": 9,
     "metadata": {},
     "output_type": "execute_result"
    }
   ],
   "source": [
    "trim_mean(score, 0.1)"
   ]
  },
  {
   "cell_type": "code",
   "execution_count": 14,
   "metadata": {},
   "outputs": [],
   "source": [
    "%matplotlib inline"
   ]
  },
  {
   "cell_type": "code",
   "execution_count": 19,
   "metadata": {},
   "outputs": [
    {
     "data": {
      "image/png": "[encoded data removed]",
      "text/plain": [
       "<Figure size 432x288 with 1 Axes>"
      ]
     },
     "metadata": {
      "needs_background": "light"
     },
     "output_type": "display_data"
    }
   ],
   "source": [
    "import numpy as np\n",
    "import matplotlib.pyplot as plt\n",
    "x = [0, 95, 60, 30, 0, 60, 67, 67, 65, 80,\n",
    "   100, 91, 0, 0, 83, 67, 90, 91, 73, 61,\n",
    "   74, 99, 44, 75, 98, 98, 68, 69, 79, 95,\n",
    "   87, 87, 60, 78, 100, 0, 63, 72, 75, 79,\n",
    "   69, 60, 83, 83, 65, 80, 73, 85, 0, 60,\n",
    "   80, 60, 92, 99, 81, 66, 48, 83, 97, 68,\n",
    "   77, 89, 0, 89, 0, 62, 88, 37, 87, 93,\n",
    "   60, 83, 71, 65]\n",
    "plt.hist(x, bins=100, color='gray')\n",
    "plt.title('成績の頻度分布')\n",
    "plt.xlabel('点数')\n",
    "plt.ylabel('人数（頻度）')\n",
    "plt.show()"
   ]
  },
  {
   "cell_type": "code",
   "execution_count": 20,
   "metadata": {},
   "outputs": [],
   "source": [
    "A = [[1,1],[2,2],[3,4],[4,5],[5,6],[7,7]]"
   ]
  },
  {
   "cell_type": "code",
   "execution_count": 21,
   "metadata": {},
   "outputs": [
    {
     "name": "stdout",
     "output_type": "stream",
     "text": [
      "[1, 1]\n",
      "[2, 2]\n",
      "[3, 4]\n",
      "[4, 5]\n",
      "[5, 6]\n",
      "[7, 7]\n"
     ]
    }
   ],
   "source": [
    "for i in A:\n",
    "    print(i)"
   ]
  },
  {
   "cell_type": "code",
   "execution_count": 22,
   "metadata": {},
   "outputs": [
    {
     "data": {
      "text/plain": [
       "[2, 2]"
      ]
     },
     "execution_count": 22,
     "metadata": {},
     "output_type": "execute_result"
    }
   ],
   "source": [
    "A[1]"
   ]
  },
  {
   "cell_type": "code",
   "execution_count": 24,
   "metadata": {},
   "outputs": [],
   "source": [
    "def isStraightLine(A):\n",
    "    x1, y1 = A[0]\n",
    "    x2, y2 = A[1]\n",
    "    dx = x2 - x1\n",
    "    dy = y2 - y1\n",
    "    m1 = dy/dx\n",
    "    \n",
    "    for i in range(1,len(A)):\n",
    "        x2, y2 = A[i]\n",
    "        dx = x2 - x1\n",
    "        dy = y2 - y1\n",
    "        m2 = dy/dx\n",
    "        if m < 0:\n",
    "            return False\n",
    "\n",
    "    return True"
   ]
  },
  {
   "cell_type": "code",
   "execution_count": 25,
   "metadata": {},
   "outputs": [
    {
     "data": {
      "text/plain": [
       "True"
      ]
     },
     "execution_count": 25,
     "metadata": {},
     "output_type": "execute_result"
    }
   ],
   "source": [
    "isStraightLine(A)"
   ]
  },
  {
   "cell_type": "code",
   "execution_count": null,
   "metadata": {},
   "outputs": [],
   "source": []
  }
 ],
 "metadata": {
  "kernelspec": {
   "display_name": "Python 3",
   "language": "python",
   "name": "python3"
  },
  "language_info": {
   "codemirror_mode": {
    "name": "ipython",
    "version": 3
   },
   "file_extension": ".py",
   "mimetype": "text/x-python",
   "name": "python",
   "nbconvert_exporter": "python",
   "pygments_lexer": "ipython3",
   "version": "3.7.7"
  }
 },
 "nbformat": 4,
 "nbformat_minor": 4
}
