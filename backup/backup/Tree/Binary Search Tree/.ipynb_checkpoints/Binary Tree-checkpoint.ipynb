{
 "cells": [
  {
   "cell_type": "code",
   "execution_count": 23,
   "metadata": {},
   "outputs": [],
   "source": [
    "class Node: \n",
    "    def __init__(self,key): \n",
    "        self.left = None\n",
    "        self.right = None\n",
    "        self.val = key \n",
    "  \n",
    "# A utility function to insert a new node with the given key \n",
    "def insert(root,node): \n",
    "    if root is None: \n",
    "        root = node \n",
    "    else: \n",
    "        if root.val < node.val: \n",
    "            if root.right is None: \n",
    "                root.right = node \n",
    "            else: \n",
    "                insert(root.right, node) \n",
    "        else: \n",
    "            if root.left is None: \n",
    "                root.left = node \n",
    "            else: \n",
    "                insert(root.left, node)\n",
    "                \n",
    "def inorder(root): \n",
    "    if root: \n",
    "        inorder(root.left) \n",
    "        print(root.val) \n",
    "        inorder(root.right) \n",
    "        \n",
    "# class BinarySearchTree:\n",
    "    \n",
    "#     def insert(root,node):\n",
    "        \n",
    "#         if root is None:\n",
    "#             root = node\n",
    "#         else:\n",
    "#             if root.key < node.key:\n",
    "#                 if root.right is None:\n",
    "#                     root.right = node\n",
    "#                 else:\n",
    "#                     insert(root.right,node)\n",
    "#             elif root.key > node.key:\n",
    "#                 if root.left is None:\n",
    "#                     root.left = node\n",
    "#                 else:\n",
    "#                     insert(root.left,node)\n",
    "                \n",
    "            \n",
    "        \n",
    "        "
   ]
  },
  {
   "cell_type": "code",
   "execution_count": 22,
   "metadata": {},
   "outputs": [],
   "source": [
    "root = Node(30)\n",
    "insert(root, Node(50))\n",
    "insert(root,Node(60))\n",
    "insert(root,Node(10))\n",
    "insert(root,Node(30))\n",
    "# N = Node(50)\n",
    "# BST.insert(root)"
   ]
  },
  {
   "cell_type": "code",
   "execution_count": 25,
   "metadata": {},
   "outputs": [
    {
     "name": "stdout",
     "output_type": "stream",
     "text": [
      "10\n",
      "30\n",
      "30\n",
      "50\n",
      "60\n"
     ]
    }
   ],
   "source": [
    "inorder(root)"
   ]
  },
  {
   "cell_type": "code",
   "execution_count": 1,
   "metadata": {},
   "outputs": [],
   "source": [
    "# 2分木 r の生成\n",
    "def binary_tree(r = None):\n",
    "  return [r,[],[]]\n",
    "\n",
    "# ルート値の設定\n",
    "def put_root(root, new_val):\n",
    "  root[0] = new_val\n",
    "\n",
    "# 左部分木への要素挿入\n",
    "def insert_left(root, new_branch):\n",
    "  t = root.pop(1) # 左部分木をpop\n",
    "  if len(t) > 1:\n",
    "    # 既存のものは、new_branchの左部分木となる\n",
    "    root.insert(1, [new_branch, t, []])\n",
    "  else:\n",
    "    root.insert(1, [new_branch, [], []])\n",
    "  return root\n",
    "\n",
    "# 右部分木への要素挿入\n",
    "def insert_right(root, new_branch):\n",
    "  t = root.pop(2)\n",
    "  if len(t) > 1:\n",
    "    root.insert(2, [new_branch, [], t])\n",
    "  else:\n",
    "    root.insert(2, [new_branch, [], []])\n",
    "  return root\n",
    "\n",
    "#ルート値の取得\n",
    "def get_root(root):\n",
    "  return root[0]\n",
    "\n",
    "# 左部分木の取得\n",
    "def get_left(root):\n",
    "  return root[1]\n",
    "\n",
    "# 右部分木の取得\n",
    "def get_right(root):\n",
    "  return root[2]"
   ]
  },
  {
   "cell_type": "code",
   "execution_count": 3,
   "metadata": {},
   "outputs": [
    {
     "name": "stdout",
     "output_type": "stream",
     "text": [
      "[None, [], []]\n",
      "[3, [], []]\n",
      "[3, [4, [], []], [6, [], []]]\n",
      "[3, [9, [4, [], []], []], [6, [], []]]\n"
     ]
    }
   ],
   "source": [
    "r = binary_tree()\n",
    "print(r)\n",
    "put_root(r, 3)\n",
    "print(r)\n",
    "insert_left(r, 4)\n",
    "insert_right(r, 6)\n",
    "# root:3 left:4 right:6 \n",
    "print(r)\n",
    "insert_left(r, 9)\n",
    "print(r)"
   ]
  },
  {
   "cell_type": "code",
   "execution_count": null,
   "metadata": {},
   "outputs": [],
   "source": []
  }
 ],
 "metadata": {
  "kernelspec": {
   "display_name": "Python 3",
   "language": "python",
   "name": "python3"
  },
  "language_info": {
   "codemirror_mode": {
    "name": "ipython",
    "version": 3
   },
   "file_extension": ".py",
   "mimetype": "text/x-python",
   "name": "python",
   "nbconvert_exporter": "python",
   "pygments_lexer": "ipython3",
   "version": "3.7.4"
  }
 },
 "nbformat": 4,
 "nbformat_minor": 2
}
