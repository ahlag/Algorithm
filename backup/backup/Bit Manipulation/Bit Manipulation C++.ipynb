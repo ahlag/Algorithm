{
 "cells": [
  {
   "cell_type": "code",
   "execution_count": 1,
   "metadata": {},
   "outputs": [
    {
     "name": "stdout",
     "output_type": "stream",
     "text": [
      "0: {}\n",
      "1: {0 }\n",
      "2: {1 }\n",
      "3: {0 1 }\n",
      "4: {2 }\n",
      "5: {0 2 }\n",
      "6: {1 2 }\n",
      "7: {0 1 2 }\n"
     ]
    }
   ],
   "source": [
    "#include <iostream>\n",
    "#include <vector>\n",
    "using namespace std;\n",
    "\n",
    "int n = 3;\n",
    "\n",
    "for(int bit = 0; bit < (1<<n); ++bit) {\n",
    "    vector<int> S;\n",
    "    for(int i = 0; i < n; i++) {\n",
    "        if (bit & (1<<i)) { // 列挙に i が含まれるか\n",
    "            S.push_back(i);\n",
    "        }\n",
    "    }\n",
    "    \n",
    "    cout << bit << \": {\";\n",
    "    for (int i = 0; i < (int)S.size(); ++i) {\n",
    "        cout << S[i] << \" \";\n",
    "    }\n",
    "    cout << \"}\" << endl;\n",
    "}"
   ]
  }
 ],
 "metadata": {
  "kernelspec": {
   "display_name": "C++17",
   "language": "C++17",
   "name": "xcpp17"
  },
  "language_info": {
   "codemirror_mode": "text/x-c++src",
   "file_extension": ".cpp",
   "mimetype": "text/x-c++src",
   "name": "c++",
   "version": "17"
  }
 },
 "nbformat": 4,
 "nbformat_minor": 4
}
