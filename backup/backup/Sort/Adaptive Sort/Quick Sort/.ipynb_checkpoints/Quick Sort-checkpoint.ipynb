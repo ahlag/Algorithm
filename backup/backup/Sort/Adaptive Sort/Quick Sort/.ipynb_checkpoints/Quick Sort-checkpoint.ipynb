{
 "cells": [
  {
   "cell_type": "code",
   "execution_count": 1,
   "metadata": {},
   "outputs": [
    {
     "name": "stdout",
     "output_type": "stream",
     "text": [
      "Sorted array is:\n",
      "10\n",
      "30\n",
      "40\n",
      "50\n",
      "70\n",
      "80\n",
      "90\n"
     ]
    }
   ],
   "source": [
    "def quick_sort(arr, low, high):\n",
    "    \n",
    "    if low > high:\n",
    "        return\n",
    "    \n",
    "    pivot = partition(arr, low, high)\n",
    "    \n",
    "    quick_sort(arr, low, pivot - 1)\n",
    "    quick_sort(arr, pivot + 1, high)\n",
    "    \n",
    "def partition(arr, low, high):\n",
    "    \n",
    "    i = low - 1\n",
    "    pivot = arr[high]\n",
    "    \n",
    "    for j in range(low, high):\n",
    "        if arr[j] < pivot:\n",
    "            i += 1\n",
    "            arr[i], arr[j] = arr[j], arr[i]\n",
    "            \n",
    "    arr[i+1], arr[high] = arr[high], arr[i+1]\n",
    "    \n",
    "    return i+1\n",
    "\n",
    "arr = [10, 80, 30, 90, 40, 50, 70]\n",
    "n = len(arr) \n",
    "quick_sort(arr,0,n-1) \n",
    "print (\"Sorted array is:\") \n",
    "for i in range(n): \n",
    "    print (\"%d\" %arr[i]), "
   ]
  }
 ],
 "metadata": {
  "kernelspec": {
   "display_name": "Python 3",
   "language": "python",
   "name": "python3"
  },
  "language_info": {
   "codemirror_mode": {
    "name": "ipython",
    "version": 3
   },
   "file_extension": ".py",
   "mimetype": "text/x-python",
   "name": "python",
   "nbconvert_exporter": "python",
   "pygments_lexer": "ipython3",
   "version": "3.7.7"
  }
 },
 "nbformat": 4,
 "nbformat_minor": 4
}
