{
 "cells": [
  {
   "cell_type": "markdown",
   "metadata": {},
   "source": [
    "## Iterative\n",
    "\n",
    "Explanation <br>\n",
    "https://leetcode.com/problems/binary-tree-inorder-traversal/discuss/713539/Python-3-All-Iterative-Traversals-InOrder-PreOrder-PostOrder-Similar-Solutions <br>\n",
    "\n",
    "left -> root -> right"
   ]
  },
  {
   "cell_type": "code",
   "execution_count": 2,
   "metadata": {},
   "outputs": [],
   "source": [
    "class Solution:\n",
    "    def inorderTraversal(self, root):\n",
    "        res, stack = [], [(root, False)]\n",
    "        while stack:\n",
    "            node, visited = stack.pop()  # the last element\n",
    "            if node:\n",
    "                if visited:\n",
    "                    res.append(node.val)\n",
    "                else:  # inorder: left -> root -> right\n",
    "                    stack.append((node.right, False))\n",
    "                    stack.append((node, True))\n",
    "                    stack.append((node.left, False))\n",
    "        return res"
   ]
  }
 ],
 "metadata": {
  "kernelspec": {
   "display_name": "Python 3",
   "language": "python",
   "name": "python3"
  },
  "language_info": {
   "codemirror_mode": {
    "name": "ipython",
    "version": 3
   },
   "file_extension": ".py",
   "mimetype": "text/x-python",
   "name": "python",
   "nbconvert_exporter": "python",
   "pygments_lexer": "ipython3",
   "version": "3.8.5"
  }
 },
 "nbformat": 4,
 "nbformat_minor": 4
}
