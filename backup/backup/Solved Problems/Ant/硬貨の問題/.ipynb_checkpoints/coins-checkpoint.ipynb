{
 "cells": [
  {
   "cell_type": "markdown",
   "metadata": {},
   "source": [
    "https://zehnpaard.hatenablog.com/entry/2018/06/20/082444"
   ]
  },
  {
   "cell_type": "code",
   "execution_count": 1,
   "metadata": {},
   "outputs": [
    {
     "name": "stdin",
     "output_type": "stream",
     "text": [
      " 620\n",
      " 3 2 1 3 0 2\n"
     ]
    },
    {
     "name": "stdout",
     "output_type": "stream",
     "text": [
      "[500, 100, 50, 10, 5, 1]\n",
      "6\n"
     ]
    }
   ],
   "source": [
    "A = int(input())\n",
    "\n",
    "C = list(map(int, input().split()))[::-1]\n",
    "V = [500, 100, 50, 10, 5, 1]\n",
    "\n",
    "cnt = 0\n",
    "for i in range(len(C)):\n",
    "    t = min(A//V[i], C[i])\n",
    "    A -= t * V[i]\n",
    "    cnt += t\n",
    "    \n",
    "print(cnt)"
   ]
  },
  {
   "cell_type": "code",
   "execution_count": null,
   "metadata": {},
   "outputs": [],
   "source": []
  }
 ],
 "metadata": {
  "kernelspec": {
   "display_name": "Python 3",
   "language": "python",
   "name": "python3"
  },
  "language_info": {
   "codemirror_mode": {
    "name": "ipython",
    "version": 3
   },
   "file_extension": ".py",
   "mimetype": "text/x-python",
   "name": "python",
   "nbconvert_exporter": "python",
   "pygments_lexer": "ipython3",
   "version": "3.8.5"
  }
 },
 "nbformat": 4,
 "nbformat_minor": 4
}
