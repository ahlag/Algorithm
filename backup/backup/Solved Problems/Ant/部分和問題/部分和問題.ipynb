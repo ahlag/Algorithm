{
 "cells": [
  {
   "cell_type": "markdown",
   "metadata": {},
   "source": [
    "https://qiita.com/drken/items/e77685614f3c6bf86f44"
   ]
  },
  {
   "cell_type": "code",
   "execution_count": 4,
   "metadata": {},
   "outputs": [
    {
     "name": "stdin",
     "output_type": "stream",
     "text": [
      " 4 13\n",
      " 1 2 4 7\n"
     ]
    },
    {
     "data": {
      "text/plain": [
       "True"
      ]
     },
     "execution_count": 4,
     "metadata": {},
     "output_type": "execute_result"
    }
   ],
   "source": [
    "import sys\n",
    "def dfs(i, total):\n",
    "    \n",
    "    if i == n:\n",
    "        return total == k\n",
    "    \n",
    "    if dfs(i+1, total + a[i]):\n",
    "        return True\n",
    "    \n",
    "    if dfs(i+1, total):\n",
    "        return True\n",
    "    \n",
    "    return False\n",
    "    \n",
    "def solve():\n",
    "    if dfs(0,0):\n",
    "        return True\n",
    "    else:\n",
    "        return False\n",
    "\n",
    "\n",
    "sys.setrecursionlimit(2000)\n",
    "n, k = map(int, input().split())\n",
    "a = list(map(int, input().split())) \n",
    "solve()"
   ]
  },
  {
   "cell_type": "code",
   "execution_count": null,
   "metadata": {},
   "outputs": [],
   "source": [
    "4 13\n",
    "1 2 4 7"
   ]
  }
 ],
 "metadata": {
  "kernelspec": {
   "display_name": "Python 3",
   "language": "python",
   "name": "python3"
  },
  "language_info": {
   "codemirror_mode": {
    "name": "ipython",
    "version": 3
   },
   "file_extension": ".py",
   "mimetype": "text/x-python",
   "name": "python",
   "nbconvert_exporter": "python",
   "pygments_lexer": "ipython3",
   "version": "3.8.5"
  }
 },
 "nbformat": 4,
 "nbformat_minor": 4
}
