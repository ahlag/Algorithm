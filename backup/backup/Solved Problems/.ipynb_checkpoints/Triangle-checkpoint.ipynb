{
 "cells": [
  {
   "cell_type": "code",
   "execution_count": null,
   "metadata": {},
   "outputs": [],
   "source": [
    "from IPython.display import Image\n",
    "Image(\"triangle.png\",width=700,height=500)"
   ]
  },
  {
   "cell_type": "code",
   "execution_count": 110,
   "metadata": {},
   "outputs": [
    {
     "name": "stdout",
     "output_type": "stream",
     "text": [
      "0\n",
      "triangle[0][0] = 2 \n",
      "dp[-1][0] = 0 \n",
      "dp[0][0] = 2 \n",
      "triangle[1][0] = 4 \n",
      "dp[0][0] = 2 \n",
      "dp[1][0] = 3 \n",
      "triangle[1][1] = 4 \n",
      "dp[0][1] = 0 \n",
      "dp[1][1] = 6 \n",
      "triangle[2][0] = 7 \n",
      "dp[1][0] = 3 \n",
      "dp[2][0] = 6 \n",
      "triangle[2][1] = 7 \n",
      "dp[1][1] = 6 \n",
      "dp[2][1] = 8 \n",
      "triangle[2][2] = 7 \n",
      "dp[1][2] = 0 \n",
      "dp[2][2] = 13 \n",
      "triangle[3][0] = 3 \n",
      "dp[2][0] = 6 \n",
      "dp[3][0] = 4 \n",
      "triangle[3][1] = 3 \n",
      "dp[2][1] = 8 \n",
      "dp[3][1] = 7 \n",
      "triangle[3][2] = 3 \n",
      "dp[2][2] = 13 \n",
      "dp[3][2] = 16 \n",
      "triangle[3][3] = 3 \n",
      "dp[2][3] = 0 \n",
      "dp[3][3] = 16 \n"
     ]
    },
    {
     "data": {
      "text/plain": [
       "[[2, 0, 0, 0, 0],\n",
       " [3, 6, 0, 0, 0],\n",
       " [6, 8, 13, 0, 0],\n",
       " [4, 7, 16, 16, 0],\n",
       " [0, 0, 0, 0, 0]]"
      ]
     },
     "execution_count": 110,
     "metadata": {},
     "output_type": "execute_result"
    }
   ],
   "source": [
    "triangle = [[2],[3,4],[6,5,7],[4,1,8,3]]\n",
    "\n",
    "N, M = len(triangle), len(triangle[-1])\n",
    "\n",
    "dp  = [[0 for i in range(len(triangle)+1)] for j in range(len(triangle[-1])+1)]\n",
    "print(dp[-1][j])\n",
    "# dp  = [[0 for i in range(100)] for j in range(100)]\n",
    "\n",
    "# for i in range(0,len(triangle)):\n",
    "#     for j in range(0,len(triangle[i])):\n",
    "for i in range(0,4):\n",
    "    for j in range(0,len(triangle[i])):\n",
    "#         print('i: %d j: %d ' % (i,j))\n",
    "        dp[i][j] += triangle[i][j] + dp[i-1][j-1]\n",
    "        print('triangle[%d][%d] = %d ' % (i,j,triangle[i][i]))\n",
    "        print('dp[%d][%d] = %d ' % (i-1,j,dp[i-1][j]))\n",
    "        print('dp[%d][%d] = %d ' % (i,j,dp[i][j]))\n",
    "        \n",
    "            \n",
    "#         dp[i][j] += triangle[i][j] + dp[i-1][j]\n",
    "#             dp[i+1][j+1] = triangle[i-1][j] + dp[i-1][j]\n",
    "            \n",
    "#             print('i: %d j: %d triangle(%d,%d):' % (i,j,i,j))\n",
    "\n",
    "dp"
   ]
  },
  {
   "cell_type": "code",
   "execution_count": 122,
   "metadata": {},
   "outputs": [
    {
     "name": "stdout",
     "output_type": "stream",
     "text": [
      "2\n",
      "i: 2 j: 0\n",
      "i: 2 j: 1\n",
      "i: 2 j: 2\n",
      "i: 1 j: 0\n",
      "i: 1 j: 1\n",
      "i: 0 j: 0\n"
     ]
    },
    {
     "data": {
      "text/plain": [
       "4"
      ]
     },
     "execution_count": 122,
     "metadata": {},
     "output_type": "execute_result"
    }
   ],
   "source": [
    "triangle = [[2],[3,4],[6,5,7],[4,1,8,3]]\n",
    "\n",
    "def minimumTotal(triangle):\n",
    "    if not triangle:\n",
    "        return\n",
    "    res = triangle[-1]\n",
    "    print(len(triangle)-2)\n",
    "    for i in range(len(triangle)-2,-1,-1):\n",
    "        for j in range(len(triangle[i])):\n",
    "            print('i: %d j: %d' % (i,j))\n",
    "#             print('triangle[%d][%d] = %d ' % (i,j,triangle[i][j]))\n",
    "#             print('res[%d] = %d, res[%d] = %d ' % (j,res[j],j+1, res[j+1]))\n",
    "#             res[j] = min(res[j], res[j+1]) + triangle[i][j]\n",
    "            \n",
    "    return res[0]\n",
    "#     print(res)\n",
    "    \n",
    "minimumTotal(triangle)"
   ]
  },
  {
   "cell_type": "code",
   "execution_count": 20,
   "metadata": {},
   "outputs": [],
   "source": [
    "triangle = [[2],[3,4],[6,5,7],[4,1,8,3]]"
   ]
  },
  {
   "cell_type": "code",
   "execution_count": 24,
   "metadata": {},
   "outputs": [],
   "source": [
    "val = [[0 for i in range(1,N+1)] for j in range(M+1)]"
   ]
  },
  {
   "cell_type": "code",
   "execution_count": 25,
   "metadata": {},
   "outputs": [
    {
     "ename": "SyntaxError",
     "evalue": "can't use starred expression here (<ipython-input-25-15e0a45b58a8>, line 4)",
     "output_type": "error",
     "traceback": [
      "\u001b[0;36m  File \u001b[0;32m\"<ipython-input-25-15e0a45b58a8>\"\u001b[0;36m, line \u001b[0;32m4\u001b[0m\n\u001b[0;31mSyntaxError\u001b[0m\u001b[0;31m:\u001b[0m can't use starred expression here\n"
     ]
    }
   ],
   "source": [
    "triangle[]"
   ]
  },
  {
   "cell_type": "code",
   "execution_count": 37,
   "metadata": {},
   "outputs": [
    {
     "name": "stdout",
     "output_type": "stream",
     "text": [
      "[2]\n",
      "[3, 4]\n",
      "[6, 5, 7]\n",
      "[4, 1, 8, 3]\n",
      "[2]\n",
      "[3, 4]\n",
      "[6, 5, 7]\n",
      "[4, 1, 8, 3]\n",
      "[2]\n",
      "[3, 4]\n",
      "[6, 5, 7]\n",
      "[4, 1, 8, 3]\n",
      "[2]\n",
      "[3, 4]\n",
      "[6, 5, 7]\n",
      "[4, 1, 8, 3]\n"
     ]
    }
   ],
   "source": []
  },
  {
   "cell_type": "code",
   "execution_count": 31,
   "metadata": {},
   "outputs": [
    {
     "data": {
      "text/plain": [
       "[3, 4]"
      ]
     },
     "execution_count": 31,
     "metadata": {},
     "output_type": "execute_result"
    }
   ],
   "source": [
    "triangle[1]"
   ]
  },
  {
   "cell_type": "code",
   "execution_count": null,
   "metadata": {},
   "outputs": [],
   "source": []
  }
 ],
 "metadata": {
  "kernelspec": {
   "display_name": "Python 3",
   "language": "python",
   "name": "python3"
  },
  "language_info": {
   "codemirror_mode": {
    "name": "ipython",
    "version": 3
   },
   "file_extension": ".py",
   "mimetype": "text/x-python",
   "name": "python",
   "nbconvert_exporter": "python",
   "pygments_lexer": "ipython3",
   "version": "3.7.4"
  }
 },
 "nbformat": 4,
 "nbformat_minor": 2
}
