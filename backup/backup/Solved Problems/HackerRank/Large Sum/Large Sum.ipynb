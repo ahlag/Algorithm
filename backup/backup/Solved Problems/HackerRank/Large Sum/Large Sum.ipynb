{
 "cells": [
  {
   "cell_type": "code",
   "execution_count": 2,
   "metadata": {},
   "outputs": [
    {
     "name": "stdin",
     "output_type": "stream",
     "text": [
      " 5\n",
      " 1000000001\n",
      " 1000000002\n",
      " 1000000003\n",
      " 1000000004\n",
      " 1000000005\n"
     ]
    },
    {
     "name": "stdout",
     "output_type": "stream",
     "text": [
      "5000000015\n"
     ]
    }
   ],
   "source": [
    "#include<iostream>\n",
    "#include<vector>\n",
    "\n",
    "using namespace std;\n",
    "\n",
    "\n",
    "int number_of_elements;\n",
    "cin >> number_of_elements;\n",
    "vector <int> array(number_of_elements);\n",
    "for (int i = 0; i < number_of_elements; i++) {\n",
    "    cin >> array[i];\n",
    "}\n",
    "    \n",
    "long long int sum_of_numbers = 0;\n",
    "for (int i = 0; i < number_of_elements; i++) {\n",
    "    sum_of_numbers += array[i];\n",
    "}\n",
    "cout << sum_of_numbers << endl;\n",
    "return 0;"
   ]
  }
 ],
 "metadata": {
  "kernelspec": {
   "display_name": "C++17",
   "language": "C++17",
   "name": "xcpp17"
  },
  "language_info": {
   "codemirror_mode": "text/x-c++src",
   "file_extension": ".cpp",
   "mimetype": "text/x-c++src",
   "name": "c++",
   "version": "-std=c++17"
  }
 },
 "nbformat": 4,
 "nbformat_minor": 4
}
