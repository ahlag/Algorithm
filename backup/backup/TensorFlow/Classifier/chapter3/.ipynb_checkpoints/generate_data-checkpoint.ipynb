{
 "cells": [
  {
   "cell_type": "code",
   "execution_count": 1,
   "metadata": {},
   "outputs": [
    {
     "name": "stderr",
     "output_type": "stream",
     "text": [
      "C:\\Users\\hinoue\\Anaconda3\\envs\\tf140\\lib\\site-packages\\sklearn\\cross_validation.py:41: DeprecationWarning: This module was deprecated in version 0.18 in favor of the model_selection module into which all the refactored classes and functions are moved. Also note that the interface of the new CV iterators are different from that of this module. This module will be removed in 0.20.\n",
      "  \"This module will be removed in 0.20.\", DeprecationWarning)\n"
     ]
    }
   ],
   "source": [
    "from PIL import Image\n",
    "import os, glob\n",
    "import numpy as np\n",
    "from sklearn import cross_validation\n",
    "\n",
    "classes = [\"monkey\",\"boar\",\"crow\"]\n",
    "num_classes = len(classes)\n",
    "image_size = 50\n",
    "\n",
    "# 画像の読み込み\n",
    "\n",
    "X = []\n",
    "Y = []\n",
    "for index, classlabel in enumerate(classes):\n",
    "    photos_dir = \"./\" + classlabel\n",
    "    files = glob.glob(photos_dir + \"/*.jpg\")\n",
    "    for i, file in enumerate(files):\n",
    "        if i >= 200: break\n",
    "        image = Image.open(file)\n",
    "        image = image.convert(\"RGB\")\n",
    "        image = image.resize((image_size, image_size))\n",
    "        data = np.asarray(image)\n",
    "        X.append(data)\n",
    "        Y.append(index)\n",
    "\n",
    "X = np.array(X)\n",
    "Y = np.array(Y)\n"
   ]
  },
  {
   "cell_type": "code",
   "execution_count": 2,
   "metadata": {},
   "outputs": [
    {
     "data": {
      "text/plain": [
       "array([[[ 32,  35,  24],\n",
       "        [ 22,  26,  12],\n",
       "        [ 22,  26,  12],\n",
       "        ..., \n",
       "        [ 25,  29,  15],\n",
       "        [ 22,  30,  15],\n",
       "        [ 24,  32,  17]],\n",
       "\n",
       "       [[ 25,  29,  15],\n",
       "        [ 21,  25,  11],\n",
       "        [ 23,  27,  13],\n",
       "        ..., \n",
       "        [ 27,  34,  18],\n",
       "        [ 24,  32,  17],\n",
       "        [ 27,  35,  20]],\n",
       "\n",
       "       [[ 21,  27,  13],\n",
       "        [ 21,  27,  13],\n",
       "        [ 22,  28,  14],\n",
       "        ..., \n",
       "        [ 28,  35,  19],\n",
       "        [ 27,  36,  19],\n",
       "        [ 29,  38,  21]],\n",
       "\n",
       "       ..., \n",
       "       [[ 63,  45,  21],\n",
       "        [ 69,  47,  23],\n",
       "        [ 70,  49,  18],\n",
       "        ..., \n",
       "        [ 34,  40,  26],\n",
       "        [ 40,  47,  31],\n",
       "        [ 38,  45,  29]],\n",
       "\n",
       "       [[ 29,  15,  15],\n",
       "        [ 47,  33,  20],\n",
       "        [ 60,  40,  33],\n",
       "        ..., \n",
       "        [ 37,  45,  30],\n",
       "        [ 38,  47,  30],\n",
       "        [ 37,  46,  29]],\n",
       "\n",
       "       [[191, 157, 130],\n",
       "        [201, 175, 152],\n",
       "        [ 77,  52,  48],\n",
       "        ..., \n",
       "        [ 36,  44,  29],\n",
       "        [ 37,  46,  29],\n",
       "        [ 36,  45,  28]]], dtype=uint8)"
      ]
     },
     "execution_count": 2,
     "metadata": {},
     "output_type": "execute_result"
    }
   ],
   "source": [
    "X[0]"
   ]
  },
  {
   "cell_type": "code",
   "execution_count": 3,
   "metadata": {},
   "outputs": [
    {
     "data": {
      "text/plain": [
       "600"
      ]
     },
     "execution_count": 3,
     "metadata": {},
     "output_type": "execute_result"
    }
   ],
   "source": [
    "len(X)"
   ]
  },
  {
   "cell_type": "code",
   "execution_count": 4,
   "metadata": {},
   "outputs": [
    {
     "data": {
      "text/plain": [
       "0"
      ]
     },
     "execution_count": 4,
     "metadata": {},
     "output_type": "execute_result"
    }
   ],
   "source": [
    "Y[100]"
   ]
  },
  {
   "cell_type": "code",
   "execution_count": 5,
   "metadata": {},
   "outputs": [
    {
     "data": {
      "text/plain": [
       "1"
      ]
     },
     "execution_count": 5,
     "metadata": {},
     "output_type": "execute_result"
    }
   ],
   "source": [
    "Y[200]"
   ]
  },
  {
   "cell_type": "code",
   "execution_count": 6,
   "metadata": {},
   "outputs": [
    {
     "data": {
      "text/plain": [
       "2"
      ]
     },
     "execution_count": 6,
     "metadata": {},
     "output_type": "execute_result"
    }
   ],
   "source": [
    "Y[450]"
   ]
  },
  {
   "cell_type": "code",
   "execution_count": null,
   "metadata": {},
   "outputs": [],
   "source": []
  }
 ],
 "metadata": {
  "kernelspec": {
   "display_name": "Python 3",
   "language": "python",
   "name": "python3"
  },
  "language_info": {
   "codemirror_mode": {
    "name": "ipython",
    "version": 3
   },
   "file_extension": ".py",
   "mimetype": "text/x-python",
   "name": "python",
   "nbconvert_exporter": "python",
   "pygments_lexer": "ipython3",
   "version": "3.6.3"
  }
 },
 "nbformat": 4,
 "nbformat_minor": 2
}
