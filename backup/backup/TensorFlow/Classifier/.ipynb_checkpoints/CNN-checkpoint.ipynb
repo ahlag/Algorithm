{
 "cells": [
  {
   "cell_type": "code",
   "execution_count": null,
   "metadata": {},
   "outputs": [],
   "source": [
    "from flickrapi import FlickrAPI\n",
    "from urllib.request import urlretrieve\n",
    "from pprint import pprint\n",
    "import os, time, sys"
   ]
  },
  {
   "cell_type": "code",
   "execution_count": 3,
   "metadata": {},
   "outputs": [],
   "source": [
    "key = \"2a0eac38cb42814ee990ff7772daf331\"\n",
    "secret = \"ac1a92df478d62be\""
   ]
  },
  {
   "cell_type": "code",
   "execution_count": 4,
   "metadata": {},
   "outputs": [],
   "source": [
    "wait_time = 1"
   ]
  },
  {
   "cell_type": "code",
   "execution_count": 7,
   "metadata": {},
   "outputs": [],
   "source": [
    "animalname = input()\n",
    "savedir = './' + animalname\n",
    "\n",
    "flickr = FlickrAPI(key, secret, format='parsed-json')\n",
    "result = flickr.photos.search(\n",
    "    text = animalname,\n",
    "    per_page = 400,\n",
    "    media = 'photos',\n",
    "    sort = 'relevance',\n",
    "    safe_search = 1,\n",
    "    extras = 'url_q, license'\n",
    ")\n",
    "\n",
    "photos = result['photos']\n",
    "# pprint(photos)\n",
    "\n",
    "for i, photo in enumerate(photos['photo']):\n",
    "    url_q = photo['url_q']\n",
    "    filepath = savedir + '/' + photo['id'] + '.jpg'\n",
    "    if os.path.exists(filepath):\n",
    "        continue\n",
    "    urlretrieve(url_q,filepath)\n",
    "    time.sleep(wait_time)"
   ]
  },
  {
   "cell_type": "code",
   "execution_count": 18,
   "metadata": {},
   "outputs": [],
   "source": [
    "from PIL import Image\n",
    "import os, glob\n",
    "import numpy as np\n",
    "from sklearn.model_selection import cross_validate\n",
    "from sklearn import model_selection\n",
    "\n",
    "classes = [\"monkey\",\"boar\",\"crow\"]\n",
    "num_classes = len(classes)\n",
    "image_size = 50\n",
    "\n",
    "# 画像の読み込み\n",
    "\n",
    "X = []\n",
    "Y = []\n",
    "for index, classlabel in enumerate(classes):\n",
    "    photos_dir = \"./\" + classlabel\n",
    "    files = glob.glob(photos_dir + \"/*.jpg\")\n",
    "    for i, file in enumerate(files):\n",
    "        if i >= 200: break\n",
    "        image = Image.open(file)\n",
    "        image = image.convert(\"RGB\")\n",
    "        image = image.resize((image_size, image_size))\n",
    "        data = np.asarray(image)\n",
    "        X.append(data)\n",
    "        Y.append(index)\n",
    "\n",
    "X = np.array(X)\n",
    "Y = np.array(Y)"
   ]
  },
  {
   "cell_type": "code",
   "execution_count": 8,
   "metadata": {},
   "outputs": [
    {
     "data": {
      "text/plain": [
       "array([[[ 44,  92,  34],\n",
       "        [ 35,  81,   8],\n",
       "        [ 40,  80,  17],\n",
       "        ...,\n",
       "        [ 27,  50,  22],\n",
       "        [ 23,  46,  26],\n",
       "        [ 21,  42,  35]],\n",
       "\n",
       "       [[ 47,  90,  36],\n",
       "        [ 44,  85,  25],\n",
       "        [ 49,  87,  38],\n",
       "        ...,\n",
       "        [ 27,  50,  34],\n",
       "        [ 25,  46,  39],\n",
       "        [ 22,  43,  46]],\n",
       "\n",
       "       [[ 54,  93,  48],\n",
       "        [ 49,  89,  37],\n",
       "        [ 70, 108,  61],\n",
       "        ...,\n",
       "        [ 24,  47,  41],\n",
       "        [ 25,  44,  48],\n",
       "        [ 22,  45,  53]],\n",
       "\n",
       "       ...,\n",
       "\n",
       "       [[161, 156,  65],\n",
       "        [151, 143,  62],\n",
       "        [143, 133,  62],\n",
       "        ...,\n",
       "        [157, 149, 160],\n",
       "        [160, 150, 158],\n",
       "        [170, 155, 158]],\n",
       "\n",
       "       [[166, 166,  70],\n",
       "        [159, 155,  68],\n",
       "        [153, 145,  72],\n",
       "        ...,\n",
       "        [160, 154, 164],\n",
       "        [138, 131, 138],\n",
       "        [145, 135, 136]],\n",
       "\n",
       "       [[175, 177,  80],\n",
       "        [172, 172,  82],\n",
       "        [169, 168,  86],\n",
       "        ...,\n",
       "        [150, 144, 154],\n",
       "        [154, 144, 152],\n",
       "        [120, 105, 108]]], dtype=uint8)"
      ]
     },
     "execution_count": 8,
     "metadata": {},
     "output_type": "execute_result"
    }
   ],
   "source": [
    "X[0]"
   ]
  },
  {
   "cell_type": "code",
   "execution_count": 9,
   "metadata": {},
   "outputs": [
    {
     "data": {
      "text/plain": [
       "600"
      ]
     },
     "execution_count": 9,
     "metadata": {},
     "output_type": "execute_result"
    }
   ],
   "source": [
    "len(X)"
   ]
  },
  {
   "cell_type": "code",
   "execution_count": 11,
   "metadata": {},
   "outputs": [
    {
     "data": {
      "text/plain": [
       "600"
      ]
     },
     "execution_count": 11,
     "metadata": {},
     "output_type": "execute_result"
    }
   ],
   "source": [
    "len(Y)"
   ]
  },
  {
   "cell_type": "code",
   "execution_count": 12,
   "metadata": {},
   "outputs": [
    {
     "data": {
      "text/plain": [
       "2"
      ]
     },
     "execution_count": 12,
     "metadata": {},
     "output_type": "execute_result"
    }
   ],
   "source": [
    "Y[450]"
   ]
  },
  {
   "cell_type": "code",
   "execution_count": 13,
   "metadata": {},
   "outputs": [
    {
     "data": {
      "text/plain": [
       "0"
      ]
     },
     "execution_count": 13,
     "metadata": {},
     "output_type": "execute_result"
    }
   ],
   "source": [
    "Y[10]"
   ]
  },
  {
   "cell_type": "code",
   "execution_count": 14,
   "metadata": {},
   "outputs": [
    {
     "data": {
      "text/plain": [
       "1"
      ]
     },
     "execution_count": 14,
     "metadata": {},
     "output_type": "execute_result"
    }
   ],
   "source": [
    "Y[230]"
   ]
  },
  {
   "cell_type": "code",
   "execution_count": 19,
   "metadata": {},
   "outputs": [],
   "source": [
    "X_train, X_test, y_train, y_test = model_selection.train_test_split(X, Y)\n",
    "xy = (X_train, X_test, y_train, y_test)\n",
    "np.save(\"./animal.npy\", xy)"
   ]
  },
  {
   "cell_type": "code",
   "execution_count": 20,
   "metadata": {},
   "outputs": [
    {
     "data": {
      "text/plain": [
       "0"
      ]
     },
     "execution_count": 20,
     "metadata": {},
     "output_type": "execute_result"
    }
   ],
   "source": [
    "y_train[100]"
   ]
  },
  {
   "cell_type": "code",
   "execution_count": null,
   "metadata": {},
   "outputs": [],
   "source": []
  }
 ],
 "metadata": {
  "kernelspec": {
   "display_name": "Python 3",
   "language": "python",
   "name": "python3"
  },
  "language_info": {
   "codemirror_mode": {
    "name": "ipython",
    "version": 3
   },
   "file_extension": ".py",
   "mimetype": "text/x-python",
   "name": "python",
   "nbconvert_exporter": "python",
   "pygments_lexer": "ipython3",
   "version": "3.7.4"
  }
 },
 "nbformat": 4,
 "nbformat_minor": 4
}
