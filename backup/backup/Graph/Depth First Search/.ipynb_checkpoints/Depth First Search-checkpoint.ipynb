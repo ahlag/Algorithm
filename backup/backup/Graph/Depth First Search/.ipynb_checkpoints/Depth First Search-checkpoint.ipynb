{
 "cells": [
  {
   "cell_type": "code",
   "execution_count": 5,
   "metadata": {},
   "outputs": [
    {
     "name": "stdout",
     "output_type": "stream",
     "text": [
      "A visited!\n",
      "B visited!\n",
      "D visited!\n",
      "E visited!\n",
      "C visited!\n"
     ]
    }
   ],
   "source": [
    "class Node(object):\n",
    "    \n",
    "    def __init__(self,val):\n",
    "        self.val = val\n",
    "        self.adjacencyList = []\n",
    "        self.visited = False\n",
    "        self.predecessor = None\n",
    "        \n",
    "class DepthFirstSearch(object):\n",
    "    \n",
    "    def dfs(self, startingNode):\n",
    "        \n",
    "        startingNode.visited = True\n",
    "        print('{} visited!'.format(startingNode.val))\n",
    "        \n",
    "        for neighbor in startingNode.adjacencyList:\n",
    "            if not neighbor.visited:\n",
    "                self.dfs(neighbor)\n",
    "                \n",
    "node1 = Node(\"A\")\n",
    "node2 = Node(\"B\")\n",
    "node3 = Node(\"C\")\n",
    "node4 = Node(\"D\")\n",
    "node5 = Node(\"E\")\n",
    "\n",
    "node1.adjacencyList.append(node2)\n",
    "node1.adjacencyList.append(node3)\n",
    "node2.adjacencyList.append(node4)\n",
    "node4.adjacencyList.append(node5)\n",
    "\n",
    "dfs = DepthFirstSearch()\n",
    "dfs.dfs(node1)"
   ]
  }
 ],
 "metadata": {
  "kernelspec": {
   "display_name": "Python 3",
   "language": "python",
   "name": "python3"
  },
  "language_info": {
   "codemirror_mode": {
    "name": "ipython",
    "version": 3
   },
   "file_extension": ".py",
   "mimetype": "text/x-python",
   "name": "python",
   "nbconvert_exporter": "python",
   "pygments_lexer": "ipython3",
   "version": "3.7.7"
  }
 },
 "nbformat": 4,
 "nbformat_minor": 4
}
