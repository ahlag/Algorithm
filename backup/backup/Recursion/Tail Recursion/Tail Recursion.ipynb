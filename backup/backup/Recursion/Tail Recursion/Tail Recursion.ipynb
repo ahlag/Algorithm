{
 "cells": [
  {
   "cell_type": "code",
   "execution_count": 53,
   "metadata": {},
   "outputs": [],
   "source": [
    "class Solution:\n",
    "    def reverseString(self, s):\n",
    "        \"\"\"\n",
    "        :type s: List[str]\n",
    "        :rtype: void Do not return anything, modify s in-place instead.\n",
    "        \"\"\"\n",
    "        def helper(start, end, ls):\n",
    "            if start >= end:\n",
    "                for i in range(len(ls)):\n",
    "                    print(ls[i])\n",
    "                return\n",
    "        \n",
    "            # swap the first and last element\n",
    "            ls[start], ls[end] = ls[end], ls[start]        \n",
    "\n",
    "            return helper(start+1, end-1, ls)\n",
    "    \n",
    "        helper(0, len(s)-1, s)"
   ]
  },
  {
   "cell_type": "code",
   "execution_count": 59,
   "metadata": {},
   "outputs": [
    {
     "name": "stdout",
     "output_type": "stream",
     "text": [
      "o\n",
      "l\n",
      "l\n",
      "e\n",
      "H\n"
     ]
    }
   ],
   "source": [
    "S = Solution()\n",
    "S.reverseString([\"H\",\"e\",\"l\",\"l\",\"o\"])"
   ]
  },
  {
   "cell_type": "code",
   "execution_count": 60,
   "metadata": {},
   "outputs": [],
   "source": [
    "def reverseString(s):\n",
    "    def helper(start, end, ls):\n",
    "        if start >= end:\n",
    "            for i in range(len(ls)):\n",
    "                print(ls[i])\n",
    "            return\n",
    "        \n",
    "        ls[start], ls[end] = ls[end], ls[start]  \n",
    "        \n",
    "        return helper(start+1, end-1, ls)\n",
    "    \n",
    "    helper(0, len(s)-1, s)"
   ]
  },
  {
   "cell_type": "code",
   "execution_count": 61,
   "metadata": {},
   "outputs": [
    {
     "name": "stdout",
     "output_type": "stream",
     "text": [
      "o\n",
      "l\n",
      "l\n",
      "e\n",
      "H\n"
     ]
    }
   ],
   "source": [
    "reverseString([\"H\",\"e\",\"l\",\"l\",\"o\"])"
   ]
  },
  {
   "cell_type": "code",
   "execution_count": 69,
   "metadata": {},
   "outputs": [],
   "source": [
    "def reverseString(s):\n",
    "    index = 0\n",
    "    def helper(index, s):\n",
    "        if index >= len(s) or s == None:\n",
    "            return\n",
    "        else:\n",
    "            return helper(index+1,s)\n",
    "    \n",
    "    helper(index+1,s)\n",
    "    print(s[index])"
   ]
  },
  {
   "cell_type": "code",
   "execution_count": 70,
   "metadata": {},
   "outputs": [
    {
     "name": "stdout",
     "output_type": "stream",
     "text": [
      "H\n"
     ]
    }
   ],
   "source": [
    "reverseString([\"H\",\"e\",\"l\",\"l\",\"o\"])"
   ]
  },
  {
   "cell_type": "code",
   "execution_count": 65,
   "metadata": {},
   "outputs": [
    {
     "data": {
      "text/plain": [
       "5"
      ]
     },
     "execution_count": 65,
     "metadata": {},
     "output_type": "execute_result"
    }
   ],
   "source": [
    "s = [\"H\",\"e\",\"l\",\"l\",\"o\"]\n",
    "len(s)"
   ]
  },
  {
   "cell_type": "code",
   "execution_count": 66,
   "metadata": {},
   "outputs": [
    {
     "data": {
      "text/plain": [
       "False"
      ]
     },
     "execution_count": 66,
     "metadata": {},
     "output_type": "execute_result"
    }
   ],
   "source": [
    "s == None"
   ]
  },
  {
   "cell_type": "code",
   "execution_count": null,
   "metadata": {},
   "outputs": [],
   "source": []
  }
 ],
 "metadata": {
  "kernelspec": {
   "display_name": "Python 3",
   "language": "python",
   "name": "python3"
  },
  "language_info": {
   "codemirror_mode": {
    "name": "ipython",
    "version": 3
   },
   "file_extension": ".py",
   "mimetype": "text/x-python",
   "name": "python",
   "nbconvert_exporter": "python",
   "pygments_lexer": "ipython3",
   "version": "3.7.4"
  }
 },
 "nbformat": 4,
 "nbformat_minor": 2
}
