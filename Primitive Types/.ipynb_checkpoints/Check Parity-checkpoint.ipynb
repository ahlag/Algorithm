{
 "cells": [
  {
   "cell_type": "markdown",
   "metadata": {},
   "source": [
    "### 0(n)"
   ]
  },
  {
   "cell_type": "code",
   "execution_count": 1,
   "metadata": {},
   "outputs": [
    {
     "data": {
      "text/plain": [
       "1"
      ]
     },
     "execution_count": 1,
     "metadata": {},
     "output_type": "execute_result"
    }
   ],
   "source": [
    "def check_parity(x: int) -> int:\n",
    "    \n",
    "    result = 0\n",
    "    \n",
    "    while x:\n",
    "        result ^= x & 1\n",
    "        x >>= 1\n",
    "        \n",
    "    return result\n",
    "\n",
    "check_parity(2)"
   ]
  },
  {
   "cell_type": "markdown",
   "metadata": {},
   "source": [
    "### O(k), where k is the number of set bits"
   ]
  },
  {
   "cell_type": "code",
   "execution_count": 39,
   "metadata": {},
   "outputs": [
    {
     "data": {
      "text/plain": [
       "0"
      ]
     },
     "execution_count": 39,
     "metadata": {},
     "output_type": "execute_result"
    }
   ],
   "source": [
    "def check_parity(x: int) -> int:\n",
    "    \n",
    "    result = 0\n",
    "    \n",
    "    while x:\n",
    "        result ^= 1\n",
    "        x &= x - 1\n",
    "        \n",
    "    return result\n",
    "\n",
    "check_parity(3)"
   ]
  },
  {
   "cell_type": "markdown",
   "metadata": {},
   "source": [
    "### O(n/L), where n is the length of the words, and L is the length of the bitmask"
   ]
  },
  {
   "cell_type": "code",
   "execution_count": 40,
   "metadata": {},
   "outputs": [
    {
     "name": "stdout",
     "output_type": "stream",
     "text": [
      "[0, 1, 1, 0]\n"
     ]
    },
    {
     "data": {
      "text/plain": [
       "0"
      ]
     },
     "execution_count": 40,
     "metadata": {},
     "output_type": "execute_result"
    }
   ],
   "source": [
    "def check_parity(x: int) -> int:\n",
    "    \n",
    "    mask_size = 16\n",
    "    bitmask = 0xFFFF\n",
    "    \n",
    "    PRECOMPUTED_PARITY = [0] * 4\n",
    "    PRECOMPUTED_PARITY[0] = 0 ^ 0 # PRECOMPUTED_PARITY[bit 00]\n",
    "    PRECOMPUTED_PARITY[1] = 0 ^ 1 # PRECOMPUTED_PARITY[bit 01]\n",
    "    PRECOMPUTED_PARITY[2] = 1 ^ 0 # PRECOMPUTED_PARITY[bit 10]\n",
    "    PRECOMPUTED_PARITY[3] = 1 ^ 1 # PRECOMPUTED_PARITY[bit 11]\n",
    "        \n",
    "    return PRECOMPUTED_PARITY[x >> (3 * mask_size )] ^ \\\n",
    "            PRECOMPUTED_PARITY[ x >> (2 * mask_size ) & bitmask] ^ \\\n",
    "                PRECOMPUTED_PARITY[ x >> mask_size & bitmask] ^ \\\n",
    "                    PRECOMPUTED_PARITY[ x & bitmask]\n",
    "\n",
    "check_parity(3)"
   ]
  },
  {
   "cell_type": "markdown",
   "metadata": {},
   "source": [
    "### Bit Hack\n",
    "\n",
    "https://gist.github.com/stephenLee/4024869"
   ]
  },
  {
   "cell_type": "code",
   "execution_count": null,
   "metadata": {},
   "outputs": [],
   "source": []
  }
 ],
 "metadata": {
  "kernelspec": {
   "display_name": "Python 3",
   "language": "python",
   "name": "python3"
  },
  "language_info": {
   "codemirror_mode": {
    "name": "ipython",
    "version": 3
   },
   "file_extension": ".py",
   "mimetype": "text/x-python",
   "name": "python",
   "nbconvert_exporter": "python",
   "pygments_lexer": "ipython3",
   "version": "3.8.5"
  }
 },
 "nbformat": 4,
 "nbformat_minor": 4
}
